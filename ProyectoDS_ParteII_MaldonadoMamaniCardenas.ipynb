{
  "nbformat": 4,
  "nbformat_minor": 0,
  "metadata": {
    "colab": {
      "provenance": [],
      "toc_visible": true,
      "include_colab_link": true
    },
    "kernelspec": {
      "name": "python3",
      "display_name": "Python 3"
    },
    "language_info": {
      "name": "python"
    }
  },
  "cells": [
    {
      "cell_type": "markdown",
      "metadata": {
        "id": "view-in-github",
        "colab_type": "text"
      },
      "source": [
        "<a href=\"https://colab.research.google.com/github/JuanMMaldonado/Coder-Data-Science/blob/main/ProyectoDS_ParteII_MaldonadoMamaniCardenas.ipynb\" target=\"_parent\"><img src=\"https://colab.research.google.com/assets/colab-badge.svg\" alt=\"Open In Colab\"/></a>"
      ]
    },
    {
      "cell_type": "markdown",
      "source": [
        "# Abstracto"
      ],
      "metadata": {
        "id": "SGV_JWHOEWh1"
      }
    },
    {
      "cell_type": "code",
      "source": [
        "# Abstracto con Motivacion y Audiencia"
      ],
      "metadata": {
        "id": "VankZ8EZFK5F"
      },
      "execution_count": null,
      "outputs": []
    },
    {
      "cell_type": "markdown",
      "source": [
        "El dataset seleccionado consiste en el inventario actual de una compañía multinacional dedicada a la venta de calzado, indumentaria y accesorios. A su vez, el inventario consiste en producto físico en el deposito (stock on-hand), producto en tránsito (en transporte desde fabrica al deposito) y producto en la línea de producción (en fabrica de origen). El objetivo del trabajo es identificar variables claves, analizar la información mediante métodos de data science y lograr un modelo de predicción de uso comercial que sirva para optimizar tiempos/costos de la compañía.  La audiencia de este trabajo serian la linea gerencial y/o directores con poder de toma de decisión sobre compras futuras."
      ],
      "metadata": {
        "id": "5V0Y1Pz53B3v"
      }
    },
    {
      "cell_type": "markdown",
      "source": [
        "# Preguntas/Hipótesis"
      ],
      "metadata": {
        "id": "wq1pBRvyEYzd"
      }
    },
    {
      "cell_type": "code",
      "source": [
        "# Preguntas e Hipotesis que queremos resolver mediante el analisis exploratorio de datos:\n",
        "#1 En base al historico de inventario, determinar las categorias de los articulos a invertir a futuro\n",
        "#2 En base al historico de inventario, determinar el mix de compra para cada tipo de género"
      ],
      "metadata": {
        "id": "M2ORqhQUFROv"
      },
      "execution_count": null,
      "outputs": []
    },
    {
      "cell_type": "code",
      "source": [
        "import pandas as pd\n",
        "import requests\n",
        "import io\n",
        "import seaborn as sns\n",
        "import matplotlib.pyplot as plt\n",
        "import numpy as np"
      ],
      "metadata": {
        "id": "Wn7oEHvmzYUs"
      },
      "execution_count": null,
      "outputs": []
    },
    {
      "cell_type": "code",
      "source": [
        "\n",
        "# Reading the content and turning it into a pandas dataframe\n",
        "url = 'https://raw.githubusercontent.com/JuanMMaldonado/Coder-Data-Science/main/Data%20Set%20II%20Ok%20format-%20MRP%20Inventory.csv'\n",
        "df = pd.read_csv(url)\n"
      ],
      "metadata": {
        "id": "VVoHbTDoo8C2"
      },
      "execution_count": null,
      "outputs": []
    },
    {
      "cell_type": "markdown",
      "source": [
        "# EDA"
      ],
      "metadata": {
        "id": "ECftzJNBFfXM"
      }
    },
    {
      "cell_type": "code",
      "source": [
        "# Analisis Exploratorio de Datos"
      ],
      "metadata": {
        "id": "gCxX5uTBFisI"
      },
      "execution_count": null,
      "outputs": []
    },
    {
      "cell_type": "code",
      "source": [
        "#Histograma por categorias\n",
        "h = sns.histplot(data=df, x=\"temporada\", hue=\"division\", multiple=\"stack\")\n",
        "\n",
        "plt.xticks(rotation = 45)\n"
      ],
      "metadata": {
        "colab": {
          "base_uri": "https://localhost:8080/",
          "height": 481
        },
        "id": "Vpusw5p7sIld",
        "outputId": "0fe6f788-a3e2-4dd2-c821-0bcf14c350e8"
      },
      "execution_count": null,
      "outputs": [
        {
          "output_type": "execute_result",
          "data": {
            "text/plain": [
              "([0, 1, 2, 3, 4, 5, 6, 7, 8, 9],\n",
              " [Text(0, 0, '22F'),\n",
              "  Text(1, 0, '20S'),\n",
              "  Text(2, 0, '22S'),\n",
              "  Text(3, 0, '21F'),\n",
              "  Text(4, 0, '20F'),\n",
              "  Text(5, 0, '19F'),\n",
              "  Text(6, 0, '19S'),\n",
              "  Text(7, 0, '18F'),\n",
              "  Text(8, 0, '21S'),\n",
              "  Text(9, 0, '23S')])"
            ]
          },
          "metadata": {},
          "execution_count": 7
        },
        {
          "output_type": "display_data",
          "data": {
            "text/plain": [
              "<Figure size 432x288 with 1 Axes>"
            ],
            "image/png": "[encoded data removed]"
          },
          "metadata": {
            "needs_background": "light"
          }
        }
      ]
    },
    {
      "cell_type": "code",
      "source": [
        "#Histograma por genero\n",
        "h = sns.histplot(data=df, x=\"temporada\", hue=\"genero\", multiple=\"stack\")\n",
        "\n",
        "plt.xticks(rotation = 45)"
      ],
      "metadata": {
        "colab": {
          "base_uri": "https://localhost:8080/",
          "height": 481
        },
        "id": "BE7Jq-Md6Cbn",
        "outputId": "73d1c87e-feaa-4989-ca35-78b526116327"
      },
      "execution_count": null,
      "outputs": [
        {
          "output_type": "execute_result",
          "data": {
            "text/plain": [
              "([0, 1, 2, 3, 4, 5, 6, 7, 8, 9],\n",
              " [Text(0, 0, '22F'),\n",
              "  Text(1, 0, '20S'),\n",
              "  Text(2, 0, '22S'),\n",
              "  Text(3, 0, '21F'),\n",
              "  Text(4, 0, '20F'),\n",
              "  Text(5, 0, '19F'),\n",
              "  Text(6, 0, '19S'),\n",
              "  Text(7, 0, '18F'),\n",
              "  Text(8, 0, '21S'),\n",
              "  Text(9, 0, '23S')])"
            ]
          },
          "metadata": {},
          "execution_count": 8
        },
        {
          "output_type": "display_data",
          "data": {
            "text/plain": [
              "<Figure size 432x288 with 1 Axes>"
            ],
            "image/png": "[encoded data removed]"
          },
          "metadata": {
            "needs_background": "light"
          }
        }
      ]
    },
    {
      "cell_type": "markdown",
      "source": [
        "# Recomendaciones"
      ],
      "metadata": {
        "id": "kk300MmS7Rsk"
      }
    },
    {
      "cell_type": "markdown",
      "source": [
        "#1 En base al historico de inventario, determinar las categorias de los articulos a invertir a futuro\n",
        "\n",
        "El porcentaje mayoritario corresponde a la categoria indumentaria\n",
        "\n",
        "#2 En base al historico de inventario, determinar el mix de compra para cada tipo de género\n",
        "\n",
        "El porcentaje mayoritario corresponde al género hombre\n"
      ],
      "metadata": {
        "id": "afnCD5Bf7ZiA"
      }
    }
  ]
}