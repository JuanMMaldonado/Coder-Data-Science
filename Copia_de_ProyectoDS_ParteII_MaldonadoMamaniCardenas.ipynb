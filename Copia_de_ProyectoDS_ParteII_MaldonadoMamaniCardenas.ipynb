{
  "nbformat": 4,
  "nbformat_minor": 0,
  "metadata": {
    "colab": {
      "provenance": [],
      "toc_visible": true,
      "authorship_tag": "ABX9TyOjFsSj/D+xRlErl4+bnW5b",
      "include_colab_link": true
    },
    "kernelspec": {
      "name": "python3",
      "display_name": "Python 3"
    },
    "language_info": {
      "name": "python"
    }
  },
  "cells": [
    {
      "cell_type": "markdown",
      "metadata": {
        "id": "view-in-github",
        "colab_type": "text"
      },
      "source": [
        "<a href=\"https://colab.research.google.com/github/JuanMMaldonado/Coder-Data-Science/blob/main/Copia_de_ProyectoDS_ParteII_MaldonadoMamaniCardenas.ipynb\" target=\"_parent\"><img src=\"https://colab.research.google.com/assets/colab-badge.svg\" alt=\"Open In Colab\"/></a>"
      ]
    },
    {
      "cell_type": "markdown",
      "source": [
        "# Abstracto"
      ],
      "metadata": {
        "id": "SGV_JWHOEWh1"
      }
    },
    {
      "cell_type": "code",
      "source": [
        "# Abstracto con Motivacion y Audiencia"
      ],
      "metadata": {
        "id": "VankZ8EZFK5F"
      },
      "execution_count": null,
      "outputs": []
    },
    {
      "cell_type": "markdown",
      "source": [
        "# Preguntas/Hipótesis"
      ],
      "metadata": {
        "id": "wq1pBRvyEYzd"
      }
    },
    {
      "cell_type": "code",
      "source": [
        "# Preguntas e Hipotesis que queremos resolver mediante el analisis exploratorio de datos"
      ],
      "metadata": {
        "id": "M2ORqhQUFROv"
      },
      "execution_count": null,
      "outputs": []
    },
    {
      "cell_type": "markdown",
      "source": [
        "# EDA"
      ],
      "metadata": {
        "id": "ECftzJNBFfXM"
      }
    },
    {
      "cell_type": "code",
      "source": [
        "# Analisis Exploratorio de Datos"
      ],
      "metadata": {
        "id": "gCxX5uTBFisI"
      },
      "execution_count": null,
      "outputs": []
    }
  ]
}