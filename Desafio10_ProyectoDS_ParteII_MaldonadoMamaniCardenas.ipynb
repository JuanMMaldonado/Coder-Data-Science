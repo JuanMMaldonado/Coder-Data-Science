{
  "nbformat": 4,
  "nbformat_minor": 0,
  "metadata": {
    "colab": {
      "provenance": [],
      "toc_visible": true,
      "include_colab_link": true
    },
    "kernelspec": {
      "name": "python3",
      "display_name": "Python 3"
    },
    "language_info": {
      "name": "python"
    }
  },
  "cells": [
    {
      "cell_type": "markdown",
      "metadata": {
        "id": "view-in-github",
        "colab_type": "text"
      },
      "source": [
        "<a href=\"https://colab.research.google.com/github/JuanMMaldonado/Coder-Data-Science/blob/main/Desafio10_ProyectoDS_ParteII_MaldonadoMamaniCardenas.ipynb\" target=\"_parent\"><img src=\"https://colab.research.google.com/assets/colab-badge.svg\" alt=\"Open In Colab\"/></a>"
      ]
    },
    {
      "cell_type": "markdown",
      "source": [
        "# Storytelling sobre Estado de Inventario\n"
      ],
      "metadata": {
        "id": "SGV_JWHOEWh1"
      }
    },
    {
      "cell_type": "code",
      "source": [
        "# Abstracto con Motivacion y Audiencia"
      ],
      "metadata": {
        "id": "VankZ8EZFK5F"
      },
      "execution_count": null,
      "outputs": []
    },
    {
      "cell_type": "markdown",
      "source": [
        "El dataset seleccionado consiste en el inventario actual de una compañía multinacional dedicada a la venta de calzado, indumentaria y accesorios. Dicho estado de inventario se monitorea y trabaja a traves de SAP, en donde se unifica y trabaja todo el inventario de la compañia. El inventario puede dividirse segun su \"tipo de inventario\", es decir, en producto físico en el deposito (stock on-hand), producto en tránsito (en transporte desde fabrica al deposito) y producto en la línea de producción (en fabrica de origen). Dicho dataset posee multiples variables cualitativas, y muy pocas cuantitativas.\n",
        "\n",
        "El objetivo del trabajo es identificar variables claves, analizar la información mediante métodos de data science y lograr un modelo de predicción de uso comercial que sirva para optimizar tiempos/costos de la compañía.  La audiencia de este trabajo serian la linea gerencial y/o directores con poder de toma de decisión sobre compras futuras."
      ],
      "metadata": {
        "id": "5V0Y1Pz53B3v"
      }
    },
    {
      "cell_type": "markdown",
      "source": [
        "# Preguntas/Hipótesis"
      ],
      "metadata": {
        "id": "wq1pBRvyEYzd"
      }
    },
    {
      "cell_type": "code",
      "source": [
        "# Preguntas e Hipotesis que queremos resolver mediante el analisis exploratorio de datos:\n",
        "#(1) En base al historico de inventario, determinar las categorias de los articulos a invertir a futuro\n",
        "#(2) En base al historico de inventario, determinar el mix de compra para cada tipo de género\n",
        "#(3) Que categoria para indumentaria de hombre es la mas vendida?"
      ],
      "metadata": {
        "id": "M2ORqhQUFROv"
      },
      "execution_count": null,
      "outputs": []
    },
    {
      "cell_type": "code",
      "source": [
        "import pandas as pd\n",
        "import requests\n",
        "import io\n",
        "import seaborn as sns\n",
        "import matplotlib.pyplot as plt\n",
        "import numpy as np"
      ],
      "metadata": {
        "id": "Wn7oEHvmzYUs"
      },
      "execution_count": null,
      "outputs": []
    },
    {
      "cell_type": "code",
      "source": [
        "\n",
        "# Leemos el contenido y lo convertimos en un pandas dataframe\n",
        "url = 'https://raw.githubusercontent.com/JuanMMaldonado/Coder-Data-Science/main/Data%20Set%20II%20Ok%20format-%20MRP%20Inventory.csv'\n",
        "df = pd.read_csv(url)\n"
      ],
      "metadata": {
        "id": "VVoHbTDoo8C2"
      },
      "execution_count": null,
      "outputs": []
    },
    {
      "cell_type": "code",
      "execution_count": null,
      "metadata": {
        "colab": {
          "base_uri": "https://localhost:8080/"
        },
        "id": "9bf86fe7",
        "outputId": "47dab814-2362-42f5-d69d-cb9afbeb6c58"
      },
      "outputs": [
        {
          "output_type": "stream",
          "name": "stdout",
          "text": [
            "<class 'pandas.core.frame.DataFrame'>\n",
            "RangeIndex: 129726 entries, 0 to 129725\n",
            "Data columns (total 21 columns):\n",
            " #   Column           Non-Null Count   Dtype  \n",
            "---  ------           --------------   -----  \n",
            " 0   id_articulo      129726 non-null  object \n",
            " 1   nombre_articulo  129726 non-null  object \n",
            " 2   temporada        129726 non-null  object \n",
            " 3   division         129726 non-null  object \n",
            " 4   edad             129726 non-null  object \n",
            " 5   genero           129726 non-null  object \n",
            " 6   tipo_producto    129726 non-null  object \n",
            " 7   categoria        129726 non-null  object \n",
            " 8   precio           129726 non-null  float64\n",
            " 9   qty_inventario   129726 non-null  int64  \n",
            " 10  nombre_canal     129726 non-null  object \n",
            " 11  nombre_inv       129726 non-null  object \n",
            " 12  fecha_pedido     129726 non-null  object \n",
            " 13  id_cliente       129726 non-null  object \n",
            " 14  nombre_cliente   99016 non-null   object \n",
            " 15  id_compra        129726 non-null  int64  \n",
            " 16  id_fabrica       102743 non-null  object \n",
            " 17  nombre_fabrica   102743 non-null  object \n",
            " 18  ciudad_fabrica   102743 non-null  object \n",
            " 19  pais_fabrica     102743 non-null  object \n",
            " 20  fecha_entrega    102743 non-null  object \n",
            "dtypes: float64(1), int64(2), object(18)\n",
            "memory usage: 20.8+ MB\n"
          ]
        }
      ],
      "source": [
        "df.info()"
      ]
    },
    {
      "cell_type": "code",
      "source": [
        "filtered_df = df[(df['division'] == 'apparel') & (df['genero'] == 'Man')]"
      ],
      "metadata": {
        "id": "7JuEkxxOfjUd"
      },
      "execution_count": null,
      "outputs": []
    },
    {
      "cell_type": "code",
      "source": [
        "df_num = df.select_dtypes('number') # datos númericos\n",
        "df_num['genero'] = df['genero']\n",
        "df_num.head()"
      ],
      "metadata": {
        "colab": {
          "base_uri": "https://localhost:8080/",
          "height": 206
        },
        "id": "IjUhJD-9KtkC",
        "outputId": "42b6104c-e462-4021-b8ed-dc2927dbe426"
      },
      "execution_count": null,
      "outputs": [
        {
          "output_type": "execute_result",
          "data": {
            "text/plain": [
              "    precio  qty_inventario  id_compra genero\n",
              "0  43199.1               3  295767087    Man\n",
              "1  43199.1              77  295767087    Man\n",
              "2  31499.1               3  295767596    Man\n",
              "3  31499.1              43  295767596    Man\n",
              "4  10799.1             102  295310823    Man"
            ],
            "text/html": [
              "\n",
              "  <div id=\"df-51ea7d79-c399-4482-8e71-87d1ad6157f0\">\n",
              "    <div class=\"colab-df-container\">\n",
              "      <div>\n",
              "<style scoped>\n",
              "    .dataframe tbody tr th:only-of-type {\n",
              "        vertical-align: middle;\n",
              "    }\n",
              "\n",
              "    .dataframe tbody tr th {\n",
              "        vertical-align: top;\n",
              "    }\n",
              "\n",
              "    .dataframe thead th {\n",
              "        text-align: right;\n",
              "    }\n",
              "</style>\n",
              "<table border=\"1\" class=\"dataframe\">\n",
              "  <thead>\n",
              "    <tr style=\"text-align: right;\">\n",
              "      <th></th>\n",
              "      <th>precio</th>\n",
              "      <th>qty_inventario</th>\n",
              "      <th>id_compra</th>\n",
              "      <th>genero</th>\n",
              "    </tr>\n",
              "  </thead>\n",
              "  <tbody>\n",
              "    <tr>\n",
              "      <th>0</th>\n",
              "      <td>43199.1</td>\n",
              "      <td>3</td>\n",
              "      <td>295767087</td>\n",
              "      <td>Man</td>\n",
              "    </tr>\n",
              "    <tr>\n",
              "      <th>1</th>\n",
              "      <td>43199.1</td>\n",
              "      <td>77</td>\n",
              "      <td>295767087</td>\n",
              "      <td>Man</td>\n",
              "    </tr>\n",
              "    <tr>\n",
              "      <th>2</th>\n",
              "      <td>31499.1</td>\n",
              "      <td>3</td>\n",
              "      <td>295767596</td>\n",
              "      <td>Man</td>\n",
              "    </tr>\n",
              "    <tr>\n",
              "      <th>3</th>\n",
              "      <td>31499.1</td>\n",
              "      <td>43</td>\n",
              "      <td>295767596</td>\n",
              "      <td>Man</td>\n",
              "    </tr>\n",
              "    <tr>\n",
              "      <th>4</th>\n",
              "      <td>10799.1</td>\n",
              "      <td>102</td>\n",
              "      <td>295310823</td>\n",
              "      <td>Man</td>\n",
              "    </tr>\n",
              "  </tbody>\n",
              "</table>\n",
              "</div>\n",
              "      <button class=\"colab-df-convert\" onclick=\"convertToInteractive('df-51ea7d79-c399-4482-8e71-87d1ad6157f0')\"\n",
              "              title=\"Convert this dataframe to an interactive table.\"\n",
              "              style=\"display:none;\">\n",
              "        \n",
              "  <svg xmlns=\"http://www.w3.org/2000/svg\" height=\"24px\"viewBox=\"0 0 24 24\"\n",
              "       width=\"24px\">\n",
              "    <path d=\"M0 0h24v24H0V0z\" fill=\"none\"/>\n",
              "    <path d=\"M18.56 5.44l.94 2.06.94-2.06 2.06-.94-2.06-.94-.94-2.06-.94 2.06-2.06.94zm-11 1L8.5 8.5l.94-2.06 2.06-.94-2.06-.94L8.5 2.5l-.94 2.06-2.06.94zm10 10l.94 2.06.94-2.06 2.06-.94-2.06-.94-.94-2.06-.94 2.06-2.06.94z\"/><path d=\"M17.41 7.96l-1.37-1.37c-.4-.4-.92-.59-1.43-.59-.52 0-1.04.2-1.43.59L10.3 9.45l-7.72 7.72c-.78.78-.78 2.05 0 2.83L4 21.41c.39.39.9.59 1.41.59.51 0 1.02-.2 1.41-.59l7.78-7.78 2.81-2.81c.8-.78.8-2.07 0-2.86zM5.41 20L4 18.59l7.72-7.72 1.47 1.35L5.41 20z\"/>\n",
              "  </svg>\n",
              "      </button>\n",
              "      \n",
              "  <style>\n",
              "    .colab-df-container {\n",
              "      display:flex;\n",
              "      flex-wrap:wrap;\n",
              "      gap: 12px;\n",
              "    }\n",
              "\n",
              "    .colab-df-convert {\n",
              "      background-color: #E8F0FE;\n",
              "      border: none;\n",
              "      border-radius: 50%;\n",
              "      cursor: pointer;\n",
              "      display: none;\n",
              "      fill: #1967D2;\n",
              "      height: 32px;\n",
              "      padding: 0 0 0 0;\n",
              "      width: 32px;\n",
              "    }\n",
              "\n",
              "    .colab-df-convert:hover {\n",
              "      background-color: #E2EBFA;\n",
              "      box-shadow: 0px 1px 2px rgba(60, 64, 67, 0.3), 0px 1px 3px 1px rgba(60, 64, 67, 0.15);\n",
              "      fill: #174EA6;\n",
              "    }\n",
              "\n",
              "    [theme=dark] .colab-df-convert {\n",
              "      background-color: #3B4455;\n",
              "      fill: #D2E3FC;\n",
              "    }\n",
              "\n",
              "    [theme=dark] .colab-df-convert:hover {\n",
              "      background-color: #434B5C;\n",
              "      box-shadow: 0px 1px 3px 1px rgba(0, 0, 0, 0.15);\n",
              "      filter: drop-shadow(0px 1px 2px rgba(0, 0, 0, 0.3));\n",
              "      fill: #FFFFFF;\n",
              "    }\n",
              "  </style>\n",
              "\n",
              "      <script>\n",
              "        const buttonEl =\n",
              "          document.querySelector('#df-51ea7d79-c399-4482-8e71-87d1ad6157f0 button.colab-df-convert');\n",
              "        buttonEl.style.display =\n",
              "          google.colab.kernel.accessAllowed ? 'block' : 'none';\n",
              "\n",
              "        async function convertToInteractive(key) {\n",
              "          const element = document.querySelector('#df-51ea7d79-c399-4482-8e71-87d1ad6157f0');\n",
              "          const dataTable =\n",
              "            await google.colab.kernel.invokeFunction('convertToInteractive',\n",
              "                                                     [key], {});\n",
              "          if (!dataTable) return;\n",
              "\n",
              "          const docLinkHtml = 'Like what you see? Visit the ' +\n",
              "            '<a target=\"_blank\" href=https://colab.research.google.com/notebooks/data_table.ipynb>data table notebook</a>'\n",
              "            + ' to learn more about interactive tables.';\n",
              "          element.innerHTML = '';\n",
              "          dataTable['output_type'] = 'display_data';\n",
              "          await google.colab.output.renderOutput(dataTable, element);\n",
              "          const docLink = document.createElement('div');\n",
              "          docLink.innerHTML = docLinkHtml;\n",
              "          element.appendChild(docLink);\n",
              "        }\n",
              "      </script>\n",
              "    </div>\n",
              "  </div>\n",
              "  "
            ]
          },
          "metadata": {},
          "execution_count": 4
        }
      ]
    },
    {
      "cell_type": "code",
      "source": [
        "df.columns"
      ],
      "metadata": {
        "colab": {
          "base_uri": "https://localhost:8080/"
        },
        "id": "obdvRmPM300Y",
        "outputId": "c6b1851a-fc83-4fa2-8277-aaef5e793f12"
      },
      "execution_count": null,
      "outputs": [
        {
          "output_type": "execute_result",
          "data": {
            "text/plain": [
              "Index(['id_articulo', 'nombre_articulo', 'temporada', 'division', 'edad',\n",
              "       'genero', 'tipo_producto', 'categoria', 'precio', 'qty_inventario',\n",
              "       'nombre_canal', 'nombre_inv', 'fecha_pedido', 'id_cliente',\n",
              "       'nombre_cliente', 'id_compra', 'id_fabrica', 'nombre_fabrica',\n",
              "       'ciudad_fabrica', 'pais_fabrica', 'fecha_entrega'],\n",
              "      dtype='object')"
            ]
          },
          "metadata": {},
          "execution_count": 5
        }
      ]
    },
    {
      "cell_type": "code",
      "source": [
        "# Tabla de contingencia genero / division\n",
        "pd.crosstab(index=df['genero'],\n",
        "            columns=df['division'], margins=True)"
      ],
      "metadata": {
        "colab": {
          "base_uri": "https://localhost:8080/",
          "height": 206
        },
        "id": "yyC-p8RQVNW4",
        "outputId": "5828c9c9-8d01-4bf1-f25d-d3bc77acfe11"
      },
      "execution_count": null,
      "outputs": [
        {
          "output_type": "execute_result",
          "data": {
            "text/plain": [
              "division  Apparel  Footwear  Hardware     All\n",
              "genero                                       \n",
              "Man         44350     20074       450   64874\n",
              "Unisex       4556     14939      8031   27526\n",
              "Woman       21906     15004       416   37326\n",
              "All         70812     50017      8897  129726"
            ],
            "text/html": [
              "\n",
              "  <div id=\"df-b56086ed-7408-4baa-871e-c66f1262e393\">\n",
              "    <div class=\"colab-df-container\">\n",
              "      <div>\n",
              "<style scoped>\n",
              "    .dataframe tbody tr th:only-of-type {\n",
              "        vertical-align: middle;\n",
              "    }\n",
              "\n",
              "    .dataframe tbody tr th {\n",
              "        vertical-align: top;\n",
              "    }\n",
              "\n",
              "    .dataframe thead th {\n",
              "        text-align: right;\n",
              "    }\n",
              "</style>\n",
              "<table border=\"1\" class=\"dataframe\">\n",
              "  <thead>\n",
              "    <tr style=\"text-align: right;\">\n",
              "      <th>division</th>\n",
              "      <th>Apparel</th>\n",
              "      <th>Footwear</th>\n",
              "      <th>Hardware</th>\n",
              "      <th>All</th>\n",
              "    </tr>\n",
              "    <tr>\n",
              "      <th>genero</th>\n",
              "      <th></th>\n",
              "      <th></th>\n",
              "      <th></th>\n",
              "      <th></th>\n",
              "    </tr>\n",
              "  </thead>\n",
              "  <tbody>\n",
              "    <tr>\n",
              "      <th>Man</th>\n",
              "      <td>44350</td>\n",
              "      <td>20074</td>\n",
              "      <td>450</td>\n",
              "      <td>64874</td>\n",
              "    </tr>\n",
              "    <tr>\n",
              "      <th>Unisex</th>\n",
              "      <td>4556</td>\n",
              "      <td>14939</td>\n",
              "      <td>8031</td>\n",
              "      <td>27526</td>\n",
              "    </tr>\n",
              "    <tr>\n",
              "      <th>Woman</th>\n",
              "      <td>21906</td>\n",
              "      <td>15004</td>\n",
              "      <td>416</td>\n",
              "      <td>37326</td>\n",
              "    </tr>\n",
              "    <tr>\n",
              "      <th>All</th>\n",
              "      <td>70812</td>\n",
              "      <td>50017</td>\n",
              "      <td>8897</td>\n",
              "      <td>129726</td>\n",
              "    </tr>\n",
              "  </tbody>\n",
              "</table>\n",
              "</div>\n",
              "      <button class=\"colab-df-convert\" onclick=\"convertToInteractive('df-b56086ed-7408-4baa-871e-c66f1262e393')\"\n",
              "              title=\"Convert this dataframe to an interactive table.\"\n",
              "              style=\"display:none;\">\n",
              "        \n",
              "  <svg xmlns=\"http://www.w3.org/2000/svg\" height=\"24px\"viewBox=\"0 0 24 24\"\n",
              "       width=\"24px\">\n",
              "    <path d=\"M0 0h24v24H0V0z\" fill=\"none\"/>\n",
              "    <path d=\"M18.56 5.44l.94 2.06.94-2.06 2.06-.94-2.06-.94-.94-2.06-.94 2.06-2.06.94zm-11 1L8.5 8.5l.94-2.06 2.06-.94-2.06-.94L8.5 2.5l-.94 2.06-2.06.94zm10 10l.94 2.06.94-2.06 2.06-.94-2.06-.94-.94-2.06-.94 2.06-2.06.94z\"/><path d=\"M17.41 7.96l-1.37-1.37c-.4-.4-.92-.59-1.43-.59-.52 0-1.04.2-1.43.59L10.3 9.45l-7.72 7.72c-.78.78-.78 2.05 0 2.83L4 21.41c.39.39.9.59 1.41.59.51 0 1.02-.2 1.41-.59l7.78-7.78 2.81-2.81c.8-.78.8-2.07 0-2.86zM5.41 20L4 18.59l7.72-7.72 1.47 1.35L5.41 20z\"/>\n",
              "  </svg>\n",
              "      </button>\n",
              "      \n",
              "  <style>\n",
              "    .colab-df-container {\n",
              "      display:flex;\n",
              "      flex-wrap:wrap;\n",
              "      gap: 12px;\n",
              "    }\n",
              "\n",
              "    .colab-df-convert {\n",
              "      background-color: #E8F0FE;\n",
              "      border: none;\n",
              "      border-radius: 50%;\n",
              "      cursor: pointer;\n",
              "      display: none;\n",
              "      fill: #1967D2;\n",
              "      height: 32px;\n",
              "      padding: 0 0 0 0;\n",
              "      width: 32px;\n",
              "    }\n",
              "\n",
              "    .colab-df-convert:hover {\n",
              "      background-color: #E2EBFA;\n",
              "      box-shadow: 0px 1px 2px rgba(60, 64, 67, 0.3), 0px 1px 3px 1px rgba(60, 64, 67, 0.15);\n",
              "      fill: #174EA6;\n",
              "    }\n",
              "\n",
              "    [theme=dark] .colab-df-convert {\n",
              "      background-color: #3B4455;\n",
              "      fill: #D2E3FC;\n",
              "    }\n",
              "\n",
              "    [theme=dark] .colab-df-convert:hover {\n",
              "      background-color: #434B5C;\n",
              "      box-shadow: 0px 1px 3px 1px rgba(0, 0, 0, 0.15);\n",
              "      filter: drop-shadow(0px 1px 2px rgba(0, 0, 0, 0.3));\n",
              "      fill: #FFFFFF;\n",
              "    }\n",
              "  </style>\n",
              "\n",
              "      <script>\n",
              "        const buttonEl =\n",
              "          document.querySelector('#df-b56086ed-7408-4baa-871e-c66f1262e393 button.colab-df-convert');\n",
              "        buttonEl.style.display =\n",
              "          google.colab.kernel.accessAllowed ? 'block' : 'none';\n",
              "\n",
              "        async function convertToInteractive(key) {\n",
              "          const element = document.querySelector('#df-b56086ed-7408-4baa-871e-c66f1262e393');\n",
              "          const dataTable =\n",
              "            await google.colab.kernel.invokeFunction('convertToInteractive',\n",
              "                                                     [key], {});\n",
              "          if (!dataTable) return;\n",
              "\n",
              "          const docLinkHtml = 'Like what you see? Visit the ' +\n",
              "            '<a target=\"_blank\" href=https://colab.research.google.com/notebooks/data_table.ipynb>data table notebook</a>'\n",
              "            + ' to learn more about interactive tables.';\n",
              "          element.innerHTML = '';\n",
              "          dataTable['output_type'] = 'display_data';\n",
              "          await google.colab.output.renderOutput(dataTable, element);\n",
              "          const docLink = document.createElement('div');\n",
              "          docLink.innerHTML = docLinkHtml;\n",
              "          element.appendChild(docLink);\n",
              "        }\n",
              "      </script>\n",
              "    </div>\n",
              "  </div>\n",
              "  "
            ]
          },
          "metadata": {},
          "execution_count": 8
        }
      ]
    },
    {
      "cell_type": "code",
      "source": [
        "# tabla de contingencia en porcentajes relativos segun clase\n",
        "data= pd.crosstab(index=df['genero'], columns=df['division']\n",
        "           ).apply(lambda r: r/r.sum() *100,\n",
        "                                axis=0)\n",
        "print (data)"
      ],
      "metadata": {
        "colab": {
          "base_uri": "https://localhost:8080/"
        },
        "id": "78eNqYD0Wjl4",
        "outputId": "f33f5bfe-c514-48fc-a16e-aa5442b258db"
      },
      "execution_count": null,
      "outputs": [
        {
          "output_type": "stream",
          "name": "stdout",
          "text": [
            "division    Apparel   Footwear   Hardware\n",
            "genero                                   \n",
            "Man       62.630628  40.134354   5.057885\n",
            "Unisex     6.433938  29.867845  90.266382\n",
            "Woman     30.935435  29.997801   4.675733\n"
          ]
        }
      ]
    },
    {
      "cell_type": "code",
      "source": [
        "! pip install numpy\n",
        "! pip install scipy"
      ],
      "metadata": {
        "colab": {
          "base_uri": "https://localhost:8080/"
        },
        "id": "QJY1M3LGYHFU",
        "outputId": "2da2e419-c193-4866-eeb1-bbb8e42051dd"
      },
      "execution_count": null,
      "outputs": [
        {
          "output_type": "stream",
          "name": "stdout",
          "text": [
            "Looking in indexes: https://pypi.org/simple, https://us-python.pkg.dev/colab-wheels/public/simple/\n",
            "Requirement already satisfied: numpy in /usr/local/lib/python3.10/dist-packages (1.22.4)\n",
            "Looking in indexes: https://pypi.org/simple, https://us-python.pkg.dev/colab-wheels/public/simple/\n",
            "Requirement already satisfied: scipy in /usr/local/lib/python3.10/dist-packages (1.10.1)\n",
            "Requirement already satisfied: numpy<1.27.0,>=1.19.5 in /usr/local/lib/python3.10/dist-packages (from scipy) (1.22.4)\n"
          ]
        }
      ]
    },
    {
      "cell_type": "code",
      "source": [
        "from scipy.stats import chi2_contingency\n",
        "chi2, p_value, dof, expected = chi2_contingency(data)\n",
        "contingency_coef = np.sqrt(chi2 / (chi2 + np.sum(expected)))\n",
        "print(\"Coeficiente de contingencia:\", contingency_coef)"
      ],
      "metadata": {
        "colab": {
          "base_uri": "https://localhost:8080/"
        },
        "id": "DfLrArIGXpnt",
        "outputId": "70cc10ec-1a02-4d90-da64-f7c69890d81c"
      },
      "execution_count": null,
      "outputs": [
        {
          "output_type": "stream",
          "name": "stdout",
          "text": [
            "Coeficiente de contingencia: 0.5846882182525531\n"
          ]
        }
      ]
    },
    {
      "cell_type": "code",
      "source": [
        "# Tabla de contingencia pais_fabrica / categoria\n",
        "pd.crosstab(index=df['pais_fabrica'],\n",
        "            columns=df['categoria'], margins=True)"
      ],
      "metadata": {
        "colab": {
          "base_uri": "https://localhost:8080/",
          "height": 524
        },
        "id": "Rg34YXDKY0tr",
        "outputId": "34ef2b75-3daf-43fa-f966-af55b1c0fffc"
      },
      "execution_count": null,
      "outputs": [
        {
          "output_type": "execute_result",
          "data": {
            "text/plain": [
              "categoria     BASKETBALL  ENERGY & CONSORTIUM  FEAR OF GOD  FOOTBALL  \\\n",
              "pais_fabrica                                                           \n",
              "ARGENTINA              1                    0            0     10195   \n",
              "CAMBODIA               0                    0            0         0   \n",
              "CHINA                  0                    0            3     16141   \n",
              "INDIA               1646                  155            0      2111   \n",
              "JORDAN                 0                    0            0         0   \n",
              "MEXICO               409                    0            0      3819   \n",
              "PAKISTAN               0                    0            0         0   \n",
              "TURKEY                 0                    0            0      1181   \n",
              "VIET NAM             288                    0            0         0   \n",
              "VIETNAM                0                    0            0         0   \n",
              "All                 2344                  155            3     33447   \n",
              "\n",
              "categoria     ORIGINALS  OTHER SPECIALTY SPORTS  OUTDOOR  RUNNING  \\\n",
              "pais_fabrica                                                        \n",
              "ARGENTINA           550                       0        0      513   \n",
              "CAMBODIA              0                       0        0        0   \n",
              "CHINA                 0                       0     1730        0   \n",
              "INDIA              1602                       0      120     1042   \n",
              "JORDAN                0                       0     1266        0   \n",
              "MEXICO              438                     327     1052     7674   \n",
              "PAKISTAN              0                      25        0        0   \n",
              "TURKEY             4937                      65        0        0   \n",
              "VIET NAM              0                       0        0     3785   \n",
              "VIETNAM            7347                       0        0        0   \n",
              "All               14874                     417     4168    13014   \n",
              "\n",
              "categoria     SKATEBOARDING  SPORTSWEAR  SWIM  TENNIS  TRAINING  YEEZY     All  \n",
              "pais_fabrica                                                                    \n",
              "ARGENTINA                 1         775     0       0      2124      0   14159  \n",
              "CAMBODIA                  0           0     0     211        65      0     276  \n",
              "CHINA                     0        3050   460       0      6233      0   27617  \n",
              "INDIA                   133           0     0      29      2229      0    9067  \n",
              "JORDAN                    0           0     0       0         0      0    1266  \n",
              "MEXICO                    0        7942     0     866       134      0   22661  \n",
              "PAKISTAN                  0        9967     0       0         0      0    9992  \n",
              "TURKEY                    0           0     0       0         0      0    6183  \n",
              "VIET NAM                 85           0     0       0         0     17    4175  \n",
              "VIETNAM                   0           0     0       0         0      0    7347  \n",
              "All                     219       21734   460    1106     10785     17  102743  "
            ],
            "text/html": [
              "\n",
              "  <div id=\"df-c2d5d559-c041-4ae1-976c-4258aef99e96\">\n",
              "    <div class=\"colab-df-container\">\n",
              "      <div>\n",
              "<style scoped>\n",
              "    .dataframe tbody tr th:only-of-type {\n",
              "        vertical-align: middle;\n",
              "    }\n",
              "\n",
              "    .dataframe tbody tr th {\n",
              "        vertical-align: top;\n",
              "    }\n",
              "\n",
              "    .dataframe thead th {\n",
              "        text-align: right;\n",
              "    }\n",
              "</style>\n",
              "<table border=\"1\" class=\"dataframe\">\n",
              "  <thead>\n",
              "    <tr style=\"text-align: right;\">\n",
              "      <th>categoria</th>\n",
              "      <th>BASKETBALL</th>\n",
              "      <th>ENERGY &amp; CONSORTIUM</th>\n",
              "      <th>FEAR OF GOD</th>\n",
              "      <th>FOOTBALL</th>\n",
              "      <th>ORIGINALS</th>\n",
              "      <th>OTHER SPECIALTY SPORTS</th>\n",
              "      <th>OUTDOOR</th>\n",
              "      <th>RUNNING</th>\n",
              "      <th>SKATEBOARDING</th>\n",
              "      <th>SPORTSWEAR</th>\n",
              "      <th>SWIM</th>\n",
              "      <th>TENNIS</th>\n",
              "      <th>TRAINING</th>\n",
              "      <th>YEEZY</th>\n",
              "      <th>All</th>\n",
              "    </tr>\n",
              "    <tr>\n",
              "      <th>pais_fabrica</th>\n",
              "      <th></th>\n",
              "      <th></th>\n",
              "      <th></th>\n",
              "      <th></th>\n",
              "      <th></th>\n",
              "      <th></th>\n",
              "      <th></th>\n",
              "      <th></th>\n",
              "      <th></th>\n",
              "      <th></th>\n",
              "      <th></th>\n",
              "      <th></th>\n",
              "      <th></th>\n",
              "      <th></th>\n",
              "      <th></th>\n",
              "    </tr>\n",
              "  </thead>\n",
              "  <tbody>\n",
              "    <tr>\n",
              "      <th>ARGENTINA</th>\n",
              "      <td>1</td>\n",
              "      <td>0</td>\n",
              "      <td>0</td>\n",
              "      <td>10195</td>\n",
              "      <td>550</td>\n",
              "      <td>0</td>\n",
              "      <td>0</td>\n",
              "      <td>513</td>\n",
              "      <td>1</td>\n",
              "      <td>775</td>\n",
              "      <td>0</td>\n",
              "      <td>0</td>\n",
              "      <td>2124</td>\n",
              "      <td>0</td>\n",
              "      <td>14159</td>\n",
              "    </tr>\n",
              "    <tr>\n",
              "      <th>CAMBODIA</th>\n",
              "      <td>0</td>\n",
              "      <td>0</td>\n",
              "      <td>0</td>\n",
              "      <td>0</td>\n",
              "      <td>0</td>\n",
              "      <td>0</td>\n",
              "      <td>0</td>\n",
              "      <td>0</td>\n",
              "      <td>0</td>\n",
              "      <td>0</td>\n",
              "      <td>0</td>\n",
              "      <td>211</td>\n",
              "      <td>65</td>\n",
              "      <td>0</td>\n",
              "      <td>276</td>\n",
              "    </tr>\n",
              "    <tr>\n",
              "      <th>CHINA</th>\n",
              "      <td>0</td>\n",
              "      <td>0</td>\n",
              "      <td>3</td>\n",
              "      <td>16141</td>\n",
              "      <td>0</td>\n",
              "      <td>0</td>\n",
              "      <td>1730</td>\n",
              "      <td>0</td>\n",
              "      <td>0</td>\n",
              "      <td>3050</td>\n",
              "      <td>460</td>\n",
              "      <td>0</td>\n",
              "      <td>6233</td>\n",
              "      <td>0</td>\n",
              "      <td>27617</td>\n",
              "    </tr>\n",
              "    <tr>\n",
              "      <th>INDIA</th>\n",
              "      <td>1646</td>\n",
              "      <td>155</td>\n",
              "      <td>0</td>\n",
              "      <td>2111</td>\n",
              "      <td>1602</td>\n",
              "      <td>0</td>\n",
              "      <td>120</td>\n",
              "      <td>1042</td>\n",
              "      <td>133</td>\n",
              "      <td>0</td>\n",
              "      <td>0</td>\n",
              "      <td>29</td>\n",
              "      <td>2229</td>\n",
              "      <td>0</td>\n",
              "      <td>9067</td>\n",
              "    </tr>\n",
              "    <tr>\n",
              "      <th>JORDAN</th>\n",
              "      <td>0</td>\n",
              "      <td>0</td>\n",
              "      <td>0</td>\n",
              "      <td>0</td>\n",
              "      <td>0</td>\n",
              "      <td>0</td>\n",
              "      <td>1266</td>\n",
              "      <td>0</td>\n",
              "      <td>0</td>\n",
              "      <td>0</td>\n",
              "      <td>0</td>\n",
              "      <td>0</td>\n",
              "      <td>0</td>\n",
              "      <td>0</td>\n",
              "      <td>1266</td>\n",
              "    </tr>\n",
              "    <tr>\n",
              "      <th>MEXICO</th>\n",
              "      <td>409</td>\n",
              "      <td>0</td>\n",
              "      <td>0</td>\n",
              "      <td>3819</td>\n",
              "      <td>438</td>\n",
              "      <td>327</td>\n",
              "      <td>1052</td>\n",
              "      <td>7674</td>\n",
              "      <td>0</td>\n",
              "      <td>7942</td>\n",
              "      <td>0</td>\n",
              "      <td>866</td>\n",
              "      <td>134</td>\n",
              "      <td>0</td>\n",
              "      <td>22661</td>\n",
              "    </tr>\n",
              "    <tr>\n",
              "      <th>PAKISTAN</th>\n",
              "      <td>0</td>\n",
              "      <td>0</td>\n",
              "      <td>0</td>\n",
              "      <td>0</td>\n",
              "      <td>0</td>\n",
              "      <td>25</td>\n",
              "      <td>0</td>\n",
              "      <td>0</td>\n",
              "      <td>0</td>\n",
              "      <td>9967</td>\n",
              "      <td>0</td>\n",
              "      <td>0</td>\n",
              "      <td>0</td>\n",
              "      <td>0</td>\n",
              "      <td>9992</td>\n",
              "    </tr>\n",
              "    <tr>\n",
              "      <th>TURKEY</th>\n",
              "      <td>0</td>\n",
              "      <td>0</td>\n",
              "      <td>0</td>\n",
              "      <td>1181</td>\n",
              "      <td>4937</td>\n",
              "      <td>65</td>\n",
              "      <td>0</td>\n",
              "      <td>0</td>\n",
              "      <td>0</td>\n",
              "      <td>0</td>\n",
              "      <td>0</td>\n",
              "      <td>0</td>\n",
              "      <td>0</td>\n",
              "      <td>0</td>\n",
              "      <td>6183</td>\n",
              "    </tr>\n",
              "    <tr>\n",
              "      <th>VIET NAM</th>\n",
              "      <td>288</td>\n",
              "      <td>0</td>\n",
              "      <td>0</td>\n",
              "      <td>0</td>\n",
              "      <td>0</td>\n",
              "      <td>0</td>\n",
              "      <td>0</td>\n",
              "      <td>3785</td>\n",
              "      <td>85</td>\n",
              "      <td>0</td>\n",
              "      <td>0</td>\n",
              "      <td>0</td>\n",
              "      <td>0</td>\n",
              "      <td>17</td>\n",
              "      <td>4175</td>\n",
              "    </tr>\n",
              "    <tr>\n",
              "      <th>VIETNAM</th>\n",
              "      <td>0</td>\n",
              "      <td>0</td>\n",
              "      <td>0</td>\n",
              "      <td>0</td>\n",
              "      <td>7347</td>\n",
              "      <td>0</td>\n",
              "      <td>0</td>\n",
              "      <td>0</td>\n",
              "      <td>0</td>\n",
              "      <td>0</td>\n",
              "      <td>0</td>\n",
              "      <td>0</td>\n",
              "      <td>0</td>\n",
              "      <td>0</td>\n",
              "      <td>7347</td>\n",
              "    </tr>\n",
              "    <tr>\n",
              "      <th>All</th>\n",
              "      <td>2344</td>\n",
              "      <td>155</td>\n",
              "      <td>3</td>\n",
              "      <td>33447</td>\n",
              "      <td>14874</td>\n",
              "      <td>417</td>\n",
              "      <td>4168</td>\n",
              "      <td>13014</td>\n",
              "      <td>219</td>\n",
              "      <td>21734</td>\n",
              "      <td>460</td>\n",
              "      <td>1106</td>\n",
              "      <td>10785</td>\n",
              "      <td>17</td>\n",
              "      <td>102743</td>\n",
              "    </tr>\n",
              "  </tbody>\n",
              "</table>\n",
              "</div>\n",
              "      <button class=\"colab-df-convert\" onclick=\"convertToInteractive('df-c2d5d559-c041-4ae1-976c-4258aef99e96')\"\n",
              "              title=\"Convert this dataframe to an interactive table.\"\n",
              "              style=\"display:none;\">\n",
              "        \n",
              "  <svg xmlns=\"http://www.w3.org/2000/svg\" height=\"24px\"viewBox=\"0 0 24 24\"\n",
              "       width=\"24px\">\n",
              "    <path d=\"M0 0h24v24H0V0z\" fill=\"none\"/>\n",
              "    <path d=\"M18.56 5.44l.94 2.06.94-2.06 2.06-.94-2.06-.94-.94-2.06-.94 2.06-2.06.94zm-11 1L8.5 8.5l.94-2.06 2.06-.94-2.06-.94L8.5 2.5l-.94 2.06-2.06.94zm10 10l.94 2.06.94-2.06 2.06-.94-2.06-.94-.94-2.06-.94 2.06-2.06.94z\"/><path d=\"M17.41 7.96l-1.37-1.37c-.4-.4-.92-.59-1.43-.59-.52 0-1.04.2-1.43.59L10.3 9.45l-7.72 7.72c-.78.78-.78 2.05 0 2.83L4 21.41c.39.39.9.59 1.41.59.51 0 1.02-.2 1.41-.59l7.78-7.78 2.81-2.81c.8-.78.8-2.07 0-2.86zM5.41 20L4 18.59l7.72-7.72 1.47 1.35L5.41 20z\"/>\n",
              "  </svg>\n",
              "      </button>\n",
              "      \n",
              "  <style>\n",
              "    .colab-df-container {\n",
              "      display:flex;\n",
              "      flex-wrap:wrap;\n",
              "      gap: 12px;\n",
              "    }\n",
              "\n",
              "    .colab-df-convert {\n",
              "      background-color: #E8F0FE;\n",
              "      border: none;\n",
              "      border-radius: 50%;\n",
              "      cursor: pointer;\n",
              "      display: none;\n",
              "      fill: #1967D2;\n",
              "      height: 32px;\n",
              "      padding: 0 0 0 0;\n",
              "      width: 32px;\n",
              "    }\n",
              "\n",
              "    .colab-df-convert:hover {\n",
              "      background-color: #E2EBFA;\n",
              "      box-shadow: 0px 1px 2px rgba(60, 64, 67, 0.3), 0px 1px 3px 1px rgba(60, 64, 67, 0.15);\n",
              "      fill: #174EA6;\n",
              "    }\n",
              "\n",
              "    [theme=dark] .colab-df-convert {\n",
              "      background-color: #3B4455;\n",
              "      fill: #D2E3FC;\n",
              "    }\n",
              "\n",
              "    [theme=dark] .colab-df-convert:hover {\n",
              "      background-color: #434B5C;\n",
              "      box-shadow: 0px 1px 3px 1px rgba(0, 0, 0, 0.15);\n",
              "      filter: drop-shadow(0px 1px 2px rgba(0, 0, 0, 0.3));\n",
              "      fill: #FFFFFF;\n",
              "    }\n",
              "  </style>\n",
              "\n",
              "      <script>\n",
              "        const buttonEl =\n",
              "          document.querySelector('#df-c2d5d559-c041-4ae1-976c-4258aef99e96 button.colab-df-convert');\n",
              "        buttonEl.style.display =\n",
              "          google.colab.kernel.accessAllowed ? 'block' : 'none';\n",
              "\n",
              "        async function convertToInteractive(key) {\n",
              "          const element = document.querySelector('#df-c2d5d559-c041-4ae1-976c-4258aef99e96');\n",
              "          const dataTable =\n",
              "            await google.colab.kernel.invokeFunction('convertToInteractive',\n",
              "                                                     [key], {});\n",
              "          if (!dataTable) return;\n",
              "\n",
              "          const docLinkHtml = 'Like what you see? Visit the ' +\n",
              "            '<a target=\"_blank\" href=https://colab.research.google.com/notebooks/data_table.ipynb>data table notebook</a>'\n",
              "            + ' to learn more about interactive tables.';\n",
              "          element.innerHTML = '';\n",
              "          dataTable['output_type'] = 'display_data';\n",
              "          await google.colab.output.renderOutput(dataTable, element);\n",
              "          const docLink = document.createElement('div');\n",
              "          docLink.innerHTML = docLinkHtml;\n",
              "          element.appendChild(docLink);\n",
              "        }\n",
              "      </script>\n",
              "    </div>\n",
              "  </div>\n",
              "  "
            ]
          },
          "metadata": {},
          "execution_count": 18
        }
      ]
    },
    {
      "cell_type": "code",
      "source": [
        "# tabla de contingencia en porcentajes relativos segun clase\n",
        "data2= pd.crosstab(index=df['pais_fabrica'], columns=df['categoria']\n",
        "           ).apply(lambda r: r/r.sum() *100,\n",
        "                                axis=0)\n",
        "print (data2)"
      ],
      "metadata": {
        "colab": {
          "base_uri": "https://localhost:8080/"
        },
        "id": "N0oZiATZYz6H",
        "outputId": "626a8edd-b4a2-4992-8d8c-47b37b932b7e"
      },
      "execution_count": null,
      "outputs": [
        {
          "output_type": "stream",
          "name": "stdout",
          "text": [
            "categoria     BASKETBALL  ENERGY & CONSORTIUM  FEAR OF GOD   FOOTBALL  \\\n",
            "pais_fabrica                                                            \n",
            "ARGENTINA       0.042662                  0.0          0.0  30.481060   \n",
            "CAMBODIA        0.000000                  0.0          0.0   0.000000   \n",
            "CHINA           0.000000                  0.0        100.0  48.258439   \n",
            "INDIA          70.221843                100.0          0.0   6.311478   \n",
            "JORDAN          0.000000                  0.0          0.0   0.000000   \n",
            "MEXICO         17.448805                  0.0          0.0  11.418064   \n",
            "PAKISTAN        0.000000                  0.0          0.0   0.000000   \n",
            "TURKEY          0.000000                  0.0          0.0   3.530959   \n",
            "VIET NAM       12.286689                  0.0          0.0   0.000000   \n",
            "VIETNAM         0.000000                  0.0          0.0   0.000000   \n",
            "\n",
            "categoria     ORIGINALS  OTHER SPECIALTY SPORTS    OUTDOOR    RUNNING  \\\n",
            "pais_fabrica                                                            \n",
            "ARGENTINA      3.697728                0.000000   0.000000   3.941909   \n",
            "CAMBODIA       0.000000                0.000000   0.000000   0.000000   \n",
            "CHINA          0.000000                0.000000  41.506718   0.000000   \n",
            "INDIA         10.770472                0.000000   2.879079   8.006762   \n",
            "JORDAN         0.000000                0.000000  30.374280   0.000000   \n",
            "MEXICO         2.944736               78.417266  25.239923  58.967266   \n",
            "PAKISTAN       0.000000                5.995204   0.000000   0.000000   \n",
            "TURKEY        33.192147               15.587530   0.000000   0.000000   \n",
            "VIET NAM       0.000000                0.000000   0.000000  29.084063   \n",
            "VIETNAM       49.394917                0.000000   0.000000   0.000000   \n",
            "\n",
            "categoria     SKATEBOARDING  SPORTSWEAR   SWIM     TENNIS   TRAINING  YEEZY  \n",
            "pais_fabrica                                                                 \n",
            "ARGENTINA          0.456621    3.565842    0.0   0.000000  19.694019    0.0  \n",
            "CAMBODIA           0.000000    0.000000    0.0  19.077758   0.602689    0.0  \n",
            "CHINA              0.000000   14.033312  100.0   0.000000  57.793231    0.0  \n",
            "INDIA             60.730594    0.000000    0.0   2.622061  20.667594    0.0  \n",
            "JORDAN             0.000000    0.000000    0.0   0.000000   0.000000    0.0  \n",
            "MEXICO             0.000000   36.541824    0.0  78.300181   1.242466    0.0  \n",
            "PAKISTAN           0.000000   45.859023    0.0   0.000000   0.000000    0.0  \n",
            "TURKEY             0.000000    0.000000    0.0   0.000000   0.000000    0.0  \n",
            "VIET NAM          38.812785    0.000000    0.0   0.000000   0.000000  100.0  \n",
            "VIETNAM            0.000000    0.000000    0.0   0.000000   0.000000    0.0  \n"
          ]
        }
      ]
    },
    {
      "cell_type": "code",
      "source": [
        "from scipy.stats import chi2_contingency\n",
        "chi2, p_value, dof, expected = chi2_contingency(data2)\n",
        "contingency_coef = np.sqrt(chi2 / (chi2 + np.sum(expected)))\n",
        "print(\"Coeficiente de contingencia:\", contingency_coef)"
      ],
      "metadata": {
        "colab": {
          "base_uri": "https://localhost:8080/"
        },
        "id": "kmqiTIOuYzik",
        "outputId": "bfad430c-9c0d-485e-901c-1cb475e7bff7"
      },
      "execution_count": null,
      "outputs": [
        {
          "output_type": "stream",
          "name": "stdout",
          "text": [
            "Coeficiente de contingencia: 0.884646922118464\n"
          ]
        }
      ]
    },
    {
      "cell_type": "code",
      "source": [
        "# Nos quedamos con las columnas sin procesar outliers:\n",
        "columnas1 = df_num.columns.tolist()[:-1]\n",
        "columnas1"
      ],
      "metadata": {
        "colab": {
          "base_uri": "https://localhost:8080/"
        },
        "id": "DIe8X7Q5hG6w",
        "outputId": "4d88534a-e6b8-4a1f-a081-252a802eed15"
      },
      "execution_count": null,
      "outputs": [
        {
          "output_type": "execute_result",
          "data": {
            "text/plain": [
              "['precio', 'qty_inventario', 'id_compra']"
            ]
          },
          "metadata": {},
          "execution_count": 8
        }
      ]
    },
    {
      "cell_type": "code",
      "source": [
        "d_desc = {'id_articulo':'codigo de articulo', 'nombre_articulo':'descripcion del articulo', 'temporada':'temporada caldenario de venta', 'division':'calzado/indumentaria/accesorios', 'edad':'edad de consumidor apuntado',\n",
        "       'genero':'genero de consumidor apuntado', 'tipo_producto':'breve descr del producto', 'categoria':'segmento del producto', 'precio':'precio de venta', 'qty_inventario':'cantidad en inventario',\n",
        "       'nombre_canal':'canal de venta', 'nombre_inv':'estado de inventario', 'fecha_pedido':'fecha de preventa', 'id_cliente':'codigo de cliente',\n",
        "       'nombre_cliente':'nombre de cliente', 'id_compra':'codigo de orden de compra', 'id_fabrica':'codigo de fabrica', 'nombre_fabrica':'nombre de la fabrica',\n",
        "       'ciudad_fabrica':'ciudad origen de la fabrica', 'pais_fabrica':'pais origen de la fabrica', 'fecha_entrega':'fecha de entrega pactada'}"
      ],
      "metadata": {
        "id": "P5A8Pk7T9dBG"
      },
      "execution_count": null,
      "outputs": []
    },
    {
      "cell_type": "code",
      "execution_count": null,
      "metadata": {
        "id": "sB7QmOfqQziU"
      },
      "outputs": [],
      "source": [
        "df_num.drop_duplicates(inplace=True) #df_num = df_num.drop_duplicates()"
      ]
    },
    {
      "cell_type": "code",
      "source": [
        "df_num.genero.unique()"
      ],
      "metadata": {
        "colab": {
          "base_uri": "https://localhost:8080/"
        },
        "id": "m_fdqomNwtlC",
        "outputId": "aebc4cf4-0ada-4e97-d0db-a9ac5d2a58f3"
      },
      "execution_count": null,
      "outputs": [
        {
          "output_type": "execute_result",
          "data": {
            "text/plain": [
              "array(['Man', 'Woman', 'Unisex'], dtype=object)"
            ]
          },
          "metadata": {},
          "execution_count": 11
        }
      ]
    },
    {
      "cell_type": "code",
      "source": [
        "## Convertimos la variable target a valores enteros\n",
        "df_num['genero'] = df_num.genero.map({'Man':0, 'Woman':1, 'Unisex':3})"
      ],
      "metadata": {
        "id": "5353RS3kwcyb"
      },
      "execution_count": null,
      "outputs": []
    },
    {
      "cell_type": "code",
      "source": [
        "# Split del dataset\n",
        "from sklearn.model_selection import train_test_split"
      ],
      "metadata": {
        "id": "h0adYDRZcn_J"
      },
      "execution_count": null,
      "outputs": []
    },
    {
      "cell_type": "code",
      "source": [
        "# Separamos las caracteristicas/features del target\n",
        "X = df_num[columnas1] #.drop('y', axis=1)\n",
        "y = df_num['genero']"
      ],
      "metadata": {
        "id": "HCvWohP0elZK"
      },
      "execution_count": null,
      "outputs": []
    },
    {
      "cell_type": "code",
      "execution_count": null,
      "metadata": {
        "id": "43685db4",
        "outputId": "2a10d5ec-a7ec-4068-919f-bd90b9e89291",
        "colab": {
          "base_uri": "https://localhost:8080/"
        }
      },
      "outputs": [
        {
          "output_type": "stream",
          "name": "stdout",
          "text": [
            "Tamaño del set de entrenamiento: (68288, 3)\n",
            "Tamaño del set de testeo: (17072, 3)\n"
          ]
        }
      ],
      "source": [
        "# Entrenamos el split test\n",
        "\n",
        "X_train, X_test, y_train, y_test = train_test_split(X, y,\n",
        "                                                    test_size=0.2,\n",
        "                                                    random_state=33,\n",
        "                                                    stratify= y)\n",
        "\n",
        "\n",
        "print('Tamaño del set de entrenamiento:', X_train.shape)\n",
        "print('Tamaño del set de testeo:', X_test.shape)"
      ]
    },
    {
      "cell_type": "code",
      "source": [
        "# Aplicar arbol de decision\n",
        "\n",
        "for col in ['genero', 'precio', 'qty_inventario']:\n",
        "    print(col, d_desc[col])\n",
        "    sns.violinplot(x='genero', y=col, data=df_num)\n",
        "    plt.show()"
      ],
      "metadata": {
        "id": "KktrsUVpVRds",
        "colab": {
          "base_uri": "https://localhost:8080/",
          "height": 1000
        },
        "outputId": "126e739e-645d-4f50-842c-dbf8c6e04b96"
      },
      "execution_count": null,
      "outputs": [
        {
          "output_type": "stream",
          "name": "stdout",
          "text": [
            "genero genero de consumidor apuntado\n"
          ]
        },
        {
          "output_type": "display_data",
          "data": {
            "text/plain": [
              "<Figure size 640x480 with 1 Axes>"
            ],
            "image/png": "[encoded data removed]"
          },
          "metadata": {}
        },
        {
          "output_type": "stream",
          "name": "stdout",
          "text": [
            "precio precio de venta\n"
          ]
        },
        {
          "output_type": "display_data",
          "data": {
            "text/plain": [
              "<Figure size 640x480 with 1 Axes>"
            ],
            "image/png": "[encoded data removed]"
          },
          "metadata": {}
        },
        {
          "output_type": "stream",
          "name": "stdout",
          "text": [
            "qty_inventario cantidad en inventario\n"
          ]
        },
        {
          "output_type": "display_data",
          "data": {
            "text/plain": [
              "<Figure size 640x480 with 1 Axes>"
            ],
            "image/png": "[encoded data removed]"
          },
          "metadata": {}
        }
      ]
    },
    {
      "cell_type": "markdown",
      "source": [
        "# EDA"
      ],
      "metadata": {
        "id": "ECftzJNBFfXM"
      }
    },
    {
      "cell_type": "code",
      "source": [
        "# Analisis Exploratorio de Datos"
      ],
      "metadata": {
        "id": "gCxX5uTBFisI"
      },
      "execution_count": null,
      "outputs": []
    },
    {
      "cell_type": "code",
      "source": [
        "# Histograma por categorias\n",
        "h = sns.histplot(data=df, x=\"temporada\", hue=\"division\", multiple=\"stack\")\n",
        "\n",
        "plt.xticks(rotation = 45)\n"
      ],
      "metadata": {
        "colab": {
          "base_uri": "https://localhost:8080/",
          "height": 667
        },
        "id": "Vpusw5p7sIld",
        "outputId": "2200bfcc-64bb-41ac-bb84-917079cd4699"
      },
      "execution_count": null,
      "outputs": [
        {
          "output_type": "execute_result",
          "data": {
            "text/plain": [
              "([0, 1, 2, 3, 4, 5, 6, 7, 8, 9],\n",
              " [Text(0, 0, '22F'),\n",
              "  Text(1, 0, '20S'),\n",
              "  Text(2, 0, '22S'),\n",
              "  Text(3, 0, '21F'),\n",
              "  Text(4, 0, '20F'),\n",
              "  Text(5, 0, '19F'),\n",
              "  Text(6, 0, '19S'),\n",
              "  Text(7, 0, '18F'),\n",
              "  Text(8, 0, '21S'),\n",
              "  Text(9, 0, '23S')])"
            ]
          },
          "metadata": {},
          "execution_count": 21
        },
        {
          "output_type": "display_data",
          "data": {
            "text/plain": [
              "<Figure size 640x480 with 1 Axes>"
            ],
            "image/png": "[encoded data removed]"
          },
          "metadata": {}
        }
      ]
    },
    {
      "cell_type": "code",
      "source": [
        "# Histograma por genero\n",
        "h = sns.histplot(data=df, x=\"temporada\", hue=\"genero\", multiple=\"stack\")\n",
        "\n",
        "plt.xticks(rotation = 45)"
      ],
      "metadata": {
        "colab": {
          "base_uri": "https://localhost:8080/",
          "height": 667
        },
        "id": "BE7Jq-Md6Cbn",
        "outputId": "000e94f9-8fb3-455e-9e50-4674ec37c217"
      },
      "execution_count": null,
      "outputs": [
        {
          "output_type": "execute_result",
          "data": {
            "text/plain": [
              "([0, 1, 2, 3, 4, 5, 6, 7, 8, 9],\n",
              " [Text(0, 0, '22F'),\n",
              "  Text(1, 0, '20S'),\n",
              "  Text(2, 0, '22S'),\n",
              "  Text(3, 0, '21F'),\n",
              "  Text(4, 0, '20F'),\n",
              "  Text(5, 0, '19F'),\n",
              "  Text(6, 0, '19S'),\n",
              "  Text(7, 0, '18F'),\n",
              "  Text(8, 0, '21S'),\n",
              "  Text(9, 0, '23S')])"
            ]
          },
          "metadata": {},
          "execution_count": 22
        },
        {
          "output_type": "display_data",
          "data": {
            "text/plain": [
              "<Figure size 640x480 with 1 Axes>"
            ],
            "image/png": "[encoded data removed]"
          },
          "metadata": {}
        }
      ]
    },
    {
      "cell_type": "code",
      "source": [
        "# Boxplot de precios por temporada\n",
        "ax = sns.boxplot(x=\"temporada\", y=\"precio\", data=df, order=[\"18F\",\"19S\",\"19F\",\"20S\",\"20F\",\"21S\",\"22F\",\"23S\"])"
      ],
      "metadata": {
        "colab": {
          "base_uri": "https://localhost:8080/",
          "height": 449
        },
        "id": "vzkN0WST1Orw",
        "outputId": "4f144b9b-e20d-4c01-fa19-11123142ee46"
      },
      "execution_count": null,
      "outputs": [
        {
          "output_type": "display_data",
          "data": {
            "text/plain": [
              "<Figure size 640x480 with 1 Axes>"
            ],
            "image/png": "[encoded data removed]"
          },
          "metadata": {}
        }
      ]
    },
    {
      "cell_type": "code",
      "source": [
        "filtered_df = df[(df['division'] == 'Apparel') & (df['genero'] == 'Man')]"
      ],
      "metadata": {
        "id": "F_8zjs3JcBIP"
      },
      "execution_count": null,
      "outputs": []
    },
    {
      "cell_type": "code",
      "source": [
        "grouped = filtered_df.groupby(\"categoria\").sum()"
      ],
      "metadata": {
        "colab": {
          "base_uri": "https://localhost:8080/"
        },
        "id": "d1sKtJZ8cUGT",
        "outputId": "c6d5d6c1-2e5f-441a-c7bd-fe00aada0a7e"
      },
      "execution_count": null,
      "outputs": [
        {
          "output_type": "stream",
          "name": "stderr",
          "text": [
            "<ipython-input-25-fb448f189d39>:1: FutureWarning: The default value of numeric_only in DataFrameGroupBy.sum is deprecated. In a future version, numeric_only will default to False. Either specify numeric_only or select only columns which should be valid for the function.\n",
            "  grouped = filtered_df.groupby(\"categoria\").sum()\n"
          ]
        }
      ]
    },
    {
      "cell_type": "code",
      "source": [
        "print (filtered_df)"
      ],
      "metadata": {
        "id": "dAsPrMJ7eJ_n"
      },
      "execution_count": null,
      "outputs": []
    },
    {
      "cell_type": "code",
      "source": [
        "print (df)"
      ],
      "metadata": {
        "colab": {
          "base_uri": "https://localhost:8080/"
        },
        "id": "CSwHR0mkeAkp",
        "outputId": "73525c29-89a5-42f5-8724-ce79abcf499d"
      },
      "execution_count": null,
      "outputs": [
        {
          "output_type": "stream",
          "name": "stdout",
          "text": [
            "       id_articulo nombre_articulo temporada  division   edad  genero  \\\n",
            "0            15110    COPA MUNDIAL       22F  Footwear  Adult     Man   \n",
            "1            15110    COPA MUNDIAL       22F  Footwear  Adult     Man   \n",
            "2            19228    MUNDIAL TEAM       22F  Footwear  Adult     Man   \n",
            "3            19228    MUNDIAL TEAM       22F  Footwear  Adult     Man   \n",
            "4           280647        ADILETTE       22F  Footwear  Adult     Man   \n",
            "...            ...             ...       ...       ...    ...     ...   \n",
            "129721      S24035       TENSAUR K       22S  Footwear   Kids  Unisex   \n",
            "129722      S24035       TENSAUR K       22S  Footwear   Kids  Unisex   \n",
            "129723      S24035       TENSAUR K       22S  Footwear   Kids  Unisex   \n",
            "129724      S24035       TENSAUR K       22S  Footwear   Kids  Unisex   \n",
            "129725      S24035       TENSAUR K       22S  Footwear   Kids  Unisex   \n",
            "\n",
            "           tipo_producto   categoria   precio  qty_inventario  ...  \\\n",
            "0                  SHOES    FOOTBALL  43199.1               3  ...   \n",
            "1                  SHOES    FOOTBALL  43199.1              77  ...   \n",
            "2                  SHOES    FOOTBALL  31499.1               3  ...   \n",
            "3                  SHOES    FOOTBALL  31499.1              43  ...   \n",
            "4       SANDALS/SLIPPERS   ORIGINALS  10799.1             102  ...   \n",
            "...                  ...         ...      ...             ...  ...   \n",
            "129721             SHOES  SPORTSWEAR  12599.1              38  ...   \n",
            "129722             SHOES  SPORTSWEAR  12599.1              65  ...   \n",
            "129723             SHOES  SPORTSWEAR  12599.1              35  ...   \n",
            "129724             SHOES  SPORTSWEAR  12599.1               4  ...   \n",
            "129725             SHOES  SPORTSWEAR  12599.1             227  ...   \n",
            "\n",
            "           nombre_inv fecha_pedido   id_cliente           nombre_cliente  \\\n",
            "0       En producción   00/00/0000                                   NaN   \n",
            "1       En producción   11/28/2023                                   NaN   \n",
            "2       En producción   00/00/0000                                   NaN   \n",
            "3       En producción   11/28/2023                                   NaN   \n",
            "4       En producción     5/9/2023       550095             BLOISE HNOS.   \n",
            "...               ...          ...          ...                      ...   \n",
            "129721  En producción    7/12/2023       550095             BLOISE HNOS.   \n",
            "129722  En producción    7/12/2023       551152         DABRA S A DEXTER   \n",
            "129723  En producción    7/12/2023       550071           ESSENTIAL S.A.   \n",
            "129724  En producción    5/26/2023       551196  ADOLFO ZAKIAN EXCLUSIVO   \n",
            "129725  En producción   00/00/0000                                   NaN   \n",
            "\n",
            "        id_compra  id_fabrica  \\\n",
            "0       295767087      2ID001   \n",
            "1       295767087      2ID001   \n",
            "2       295767596      2ID001   \n",
            "3       295767596      2ID001   \n",
            "4       295310823      2ID003   \n",
            "...           ...         ...   \n",
            "129721  293835529      A6D501   \n",
            "129722  293835529      A6D501   \n",
            "129723  293835529      A6D501   \n",
            "129724  293835529      A6D501   \n",
            "129725  293835529      A6D501   \n",
            "\n",
            "                                           nombre_fabrica ciudad_fabrica  \\\n",
            "0                      GELAL CORAP SANAYI VE TICARET A.S.       ISTANBUL   \n",
            "1                      GELAL CORAP SANAYI VE TICARET A.S.       ISTANBUL   \n",
            "2                      GELAL CORAP SANAYI VE TICARET A.S.       ISTANBUL   \n",
            "3                      GELAL CORAP SANAYI VE TICARET A.S.       ISTANBUL   \n",
            "4       GELAL CORAP SANAYI VE TICARET ANONIM SIRKETI S...        CANKIRI   \n",
            "...                                                   ...            ...   \n",
            "129721                      INDUSTRIAS MANUFACTURERAS MYR       IRAPUATO   \n",
            "129722                      INDUSTRIAS MANUFACTURERAS MYR       IRAPUATO   \n",
            "129723                      INDUSTRIAS MANUFACTURERAS MYR       IRAPUATO   \n",
            "129724                      INDUSTRIAS MANUFACTURERAS MYR       IRAPUATO   \n",
            "129725                      INDUSTRIAS MANUFACTURERAS MYR       IRAPUATO   \n",
            "\n",
            "       pais_fabrica fecha_entrega  \n",
            "0            TURKEY     6/28/2023  \n",
            "1            TURKEY     6/28/2023  \n",
            "2            TURKEY     6/28/2023  \n",
            "3            TURKEY     6/28/2023  \n",
            "4            TURKEY     3/30/2023  \n",
            "...             ...           ...  \n",
            "129721       MEXICO     3/28/2023  \n",
            "129722       MEXICO     3/28/2023  \n",
            "129723       MEXICO     3/28/2023  \n",
            "129724       MEXICO     3/28/2023  \n",
            "129725       MEXICO     3/28/2023  \n",
            "\n",
            "[129726 rows x 21 columns]\n"
          ]
        }
      ]
    },
    {
      "cell_type": "code",
      "source": [
        "print (grouped)"
      ],
      "metadata": {
        "colab": {
          "base_uri": "https://localhost:8080/"
        },
        "id": "arEdxg0YcLyx",
        "outputId": "83f65952-54ee-4db8-ef20-d547172343e2"
      },
      "execution_count": null,
      "outputs": [
        {
          "output_type": "stream",
          "name": "stdout",
          "text": [
            "                             precio  qty_inventario      id_compra\n",
            "categoria                                                         \n",
            "BASKETBALL                5449500.9           13938   111822169327\n",
            "FEAR OF GOD                 99897.3              12      886761244\n",
            "FOOTBALL                373002737.4         1376440  6947532580401\n",
            "ORIGINALS                86532086.7          136993  1206189327699\n",
            "OTHER SPECIALTY SPORTS    1356237.9            1652    10603381158\n",
            "OUTDOOR                  27159224.4           30492   312139134224\n",
            "RUNNING                  35966712.6           82758   742721346178\n",
            "SKATEBOARDING              758644.2            1330    15601249964\n",
            "SPORTSWEAR               81616405.5          211334  1692051593245\n",
            "SWIM                      4275987.3           12399   106181795176\n",
            "TENNIS                    2799676.8            6780    58356582899\n",
            "TRAINING                 38875644.0          117953   903706562546\n"
          ]
        }
      ]
    },
    {
      "cell_type": "code",
      "source": [
        "categories = list(grouped.index)\n",
        "quantities = list(grouped[\"qty_inventario\"])"
      ],
      "metadata": {
        "id": "YEFmOf0NczGc"
      },
      "execution_count": null,
      "outputs": []
    },
    {
      "cell_type": "code",
      "source": [
        "plt.bar(categories, quantities)\n",
        "plt.xticks(rotation = 80)"
      ],
      "metadata": {
        "colab": {
          "base_uri": "https://localhost:8080/",
          "height": 853
        },
        "id": "3WiXCEJBczAU",
        "outputId": "90269fde-19c1-4da9-c305-b3349a3789f3"
      },
      "execution_count": null,
      "outputs": [
        {
          "output_type": "execute_result",
          "data": {
            "text/plain": [
              "([0, 1, 2, 3, 4, 5, 6, 7, 8, 9, 10, 11],\n",
              " [Text(0, 0, 'BASKETBALL'),\n",
              "  Text(1, 0, 'FEAR OF GOD'),\n",
              "  Text(2, 0, 'FOOTBALL'),\n",
              "  Text(3, 0, 'ORIGINALS'),\n",
              "  Text(4, 0, 'OTHER SPECIALTY SPORTS'),\n",
              "  Text(5, 0, 'OUTDOOR'),\n",
              "  Text(6, 0, 'RUNNING'),\n",
              "  Text(7, 0, 'SKATEBOARDING'),\n",
              "  Text(8, 0, 'SPORTSWEAR'),\n",
              "  Text(9, 0, 'SWIM'),\n",
              "  Text(10, 0, 'TENNIS'),\n",
              "  Text(11, 0, 'TRAINING')])"
            ]
          },
          "metadata": {},
          "execution_count": 30
        },
        {
          "output_type": "display_data",
          "data": {
            "text/plain": [
              "<Figure size 640x480 with 1 Axes>"
            ],
            "image/png": "[encoded data removed]"
          },
          "metadata": {}
        }
      ]
    },
    {
      "cell_type": "code",
      "source": [
        "plt.xlabel(\"Categories\")\n",
        "plt.ylabel(\"Sum of Quantities\")\n",
        "plt.title(\"Sum of Quantities by Category (Division: Apparel, Gender: Man)\")"
      ],
      "metadata": {
        "colab": {
          "base_uri": "https://localhost:8080/",
          "height": 490
        },
        "id": "lYw-2Fiucywj",
        "outputId": "a4ec0138-9a10-4624-be9c-98a9bdb07bea"
      },
      "execution_count": null,
      "outputs": [
        {
          "output_type": "execute_result",
          "data": {
            "text/plain": [
              "Text(0.5, 1.0, 'Sum of Quantities by Category (Division: Apparel, Gender: Man)')"
            ]
          },
          "metadata": {},
          "execution_count": 31
        },
        {
          "output_type": "display_data",
          "data": {
            "text/plain": [
              "<Figure size 640x480 with 1 Axes>"
            ],
            "image/png": "[encoded data removed]"
          },
          "metadata": {}
        }
      ]
    },
    {
      "cell_type": "code",
      "source": [
        "# Histograma por categorias\n",
        "h = sns.histplot(data=df, x=\"categoria\", hue=\"genero\", multiple=\"stack\")\n",
        "\n",
        "plt.xticks(rotation = 45)"
      ],
      "metadata": {
        "id": "pRuXMPb4aMH0",
        "colab": {
          "base_uri": "https://localhost:8080/",
          "height": 888
        },
        "outputId": "a58cab04-a085-4c0f-e40d-ea30360483ab"
      },
      "execution_count": null,
      "outputs": [
        {
          "output_type": "execute_result",
          "data": {
            "text/plain": [
              "([0, 1, 2, 3, 4, 5, 6, 7, 8, 9, 10, 11, 12, 13, 14, 15],\n",
              " [Text(0, 0, 'FOOTBALL'),\n",
              "  Text(1, 0, 'ORIGINALS'),\n",
              "  Text(2, 0, 'SPORTSWEAR'),\n",
              "  Text(3, 0, 'SKATEBOARDING'),\n",
              "  Text(4, 0, 'YEEZY'),\n",
              "  Text(5, 0, 'OUTDOOR'),\n",
              "  Text(6, 0, 'RUNNING'),\n",
              "  Text(7, 0, 'TRAINING'),\n",
              "  Text(8, 0, 'SWIM'),\n",
              "  Text(9, 0, 'STELLA MCCARTNEY'),\n",
              "  Text(10, 0, 'BASKETBALL'),\n",
              "  Text(11, 0, 'OTHER SPECIALTY SPORTS'),\n",
              "  Text(12, 0, 'ENERGY & CONSORTIUM'),\n",
              "  Text(13, 0, 'MUSIC PARTNERSHIPS'),\n",
              "  Text(14, 0, 'TENNIS'),\n",
              "  Text(15, 0, 'FEAR OF GOD')])"
            ]
          },
          "metadata": {},
          "execution_count": 33
        },
        {
          "output_type": "display_data",
          "data": {
            "text/plain": [
              "<Figure size 640x480 with 1 Axes>"
            ],
            "image/png": "[encoded data removed]"
          },
          "metadata": {}
        }
      ]
    },
    {
      "cell_type": "markdown",
      "source": [
        "# Conclusiones"
      ],
      "metadata": {
        "id": "kk300MmS7Rsk"
      }
    },
    {
      "cell_type": "markdown",
      "source": [
        "#(1) En base al historico de inventario, determinar las categorias de los articulos a invertir a futuro:\n",
        "\n",
        "El porcentaje mayoritario corresponde a la categoria indumentaria.\n",
        "\n",
        "#(2) En base al historico de inventario, determinar el mix de compra para cada tipo de género:\n",
        "\n",
        "El porcentaje mayoritario corresponde al género hombre.\n",
        "\n",
        "#(3) Que categoria para indumentaria de hombre es la mas vendida?\n",
        "\n",
        "La categoria de hombre mas vendida es \"Futbol\"\n"
      ],
      "metadata": {
        "id": "afnCD5Bf7ZiA"
      }
    },
    {
      "cell_type": "markdown",
      "source": [
        "LIMPIEZA DE DATOS"
      ],
      "metadata": {
        "id": "-fWvsRKRxTXM"
      }
    },
    {
      "cell_type": "code",
      "source": [
        "df.duplicated()"
      ],
      "metadata": {
        "colab": {
          "base_uri": "https://localhost:8080/"
        },
        "id": "H2LoMy7sxWyP",
        "outputId": "9801771c-6254-491e-9141-3763e9f802dd"
      },
      "execution_count": null,
      "outputs": [
        {
          "output_type": "execute_result",
          "data": {
            "text/plain": [
              "0         False\n",
              "1         False\n",
              "2         False\n",
              "3         False\n",
              "4         False\n",
              "          ...  \n",
              "129721    False\n",
              "129722    False\n",
              "129723    False\n",
              "129724    False\n",
              "129725    False\n",
              "Length: 129726, dtype: bool"
            ]
          },
          "metadata": {},
          "execution_count": 34
        }
      ]
    },
    {
      "cell_type": "markdown",
      "source": [
        "no existen duplicados"
      ],
      "metadata": {
        "id": "If2fkeFhxqg5"
      }
    },
    {
      "cell_type": "code",
      "source": [
        "df[\"division\"].value_counts()"
      ],
      "metadata": {
        "colab": {
          "base_uri": "https://localhost:8080/"
        },
        "id": "EPN8tko6xtQ6",
        "outputId": "714dc123-7f1f-41fc-99cc-9904f4043cf7"
      },
      "execution_count": null,
      "outputs": [
        {
          "output_type": "execute_result",
          "data": {
            "text/plain": [
              "Apparel     70812\n",
              "Footwear    50017\n",
              "Hardware     8897\n",
              "Name: division, dtype: int64"
            ]
          },
          "metadata": {},
          "execution_count": 35
        }
      ]
    },
    {
      "cell_type": "code",
      "source": [
        "df[\"genero\"].value_counts()"
      ],
      "metadata": {
        "colab": {
          "base_uri": "https://localhost:8080/"
        },
        "id": "XNJe2uvrzF78",
        "outputId": "223c00d2-bf64-4037-d38e-c5fb61b54d13"
      },
      "execution_count": null,
      "outputs": [
        {
          "output_type": "execute_result",
          "data": {
            "text/plain": [
              "Man       64874\n",
              "Woman     37326\n",
              "Unisex    27526\n",
              "Name: genero, dtype: int64"
            ]
          },
          "metadata": {},
          "execution_count": 36
        }
      ]
    },
    {
      "cell_type": "code",
      "source": [
        "df[\"categoria\"].value_counts()"
      ],
      "metadata": {
        "colab": {
          "base_uri": "https://localhost:8080/"
        },
        "id": "1zu5h7w_zLTp",
        "outputId": "eb30bd08-c84f-41b3-858e-91f66f7ec0c7"
      },
      "execution_count": null,
      "outputs": [
        {
          "output_type": "execute_result",
          "data": {
            "text/plain": [
              "FOOTBALL                  37636\n",
              "SPORTSWEAR                29240\n",
              "ORIGINALS                 22116\n",
              "RUNNING                   15900\n",
              "TRAINING                  13011\n",
              "OUTDOOR                    4798\n",
              "BASKETBALL                 3338\n",
              "TENNIS                     1313\n",
              "OTHER SPECIALTY SPORTS      752\n",
              "SWIM                        601\n",
              "SKATEBOARDING               552\n",
              "ENERGY & CONSORTIUM         306\n",
              "YEEZY                       121\n",
              "MUSIC PARTNERSHIPS           27\n",
              "STELLA MCCARTNEY             12\n",
              "FEAR OF GOD                   3\n",
              "Name: categoria, dtype: int64"
            ]
          },
          "metadata": {},
          "execution_count": 37
        }
      ]
    },
    {
      "cell_type": "code",
      "source": [
        "df[\"tipo_producto\"].value_counts()"
      ],
      "metadata": {
        "colab": {
          "base_uri": "https://localhost:8080/"
        },
        "id": "cBcMddKYzOww",
        "outputId": "ab4e2375-771e-4466-ad1c-0ce2b4e55eef"
      },
      "execution_count": null,
      "outputs": [
        {
          "output_type": "execute_result",
          "data": {
            "text/plain": [
              "SHOES                         46886\n",
              "T-SHIRTS                      14452\n",
              "JERSEYS                       11341\n",
              "SHORTS                         9389\n",
              "PANTS                          6833\n",
              "TRACK TOPS                     5679\n",
              "SWEATSHIRTS                    4682\n",
              "TIGHTS                         4160\n",
              "JACKETS                        3956\n",
              "SOCKS                          3608\n",
              "SUITS                          3097\n",
              "SANDALS/SLIPPERS               3085\n",
              "BAGS                           2240\n",
              "POLO SHIRTS                    1663\n",
              "BALLS                          1525\n",
              "BRA                            1518\n",
              "TOPS                           1478\n",
              "HEADWEAR                       1218\n",
              "OTHER SHIRTS                    786\n",
              "SWIMWEAR                        678\n",
              "OTHER APPAREL                   539\n",
              "SKIRTS / DRESSES                536\n",
              "PROTECTION GEAR                 224\n",
              "APPAREL ACCESSORIES              70\n",
              "POLARFLEECE APPAREL              51\n",
              "HARDWARE ACCESSORIES             13\n",
              "SHOES - LOW (NON FOOTBALL)        7\n",
              "0                                 5\n",
              "SWEATERS                          3\n",
              "JERSEY                            2\n",
              "T-SHIRT (SHORT SLEEVE)            1\n",
              "T-SHIRT (SLEEVELESS)              1\n",
              "Name: tipo_producto, dtype: int64"
            ]
          },
          "metadata": {},
          "execution_count": 38
        }
      ]
    },
    {
      "cell_type": "code",
      "source": [
        "df[\"temporada\"].value_counts()"
      ],
      "metadata": {
        "colab": {
          "base_uri": "https://localhost:8080/"
        },
        "id": "rUTk2GlXzXtc",
        "outputId": "31eb76c6-b2fa-4aab-f8e6-216c05387680"
      },
      "execution_count": null,
      "outputs": [
        {
          "output_type": "execute_result",
          "data": {
            "text/plain": [
              "22F    98912\n",
              "22S    22342\n",
              "21F     5832\n",
              "20S      958\n",
              "20F      851\n",
              "21S      810\n",
              "19F       13\n",
              "19S        3\n",
              "23S        3\n",
              "18F        2\n",
              "Name: temporada, dtype: int64"
            ]
          },
          "metadata": {},
          "execution_count": 39
        }
      ]
    },
    {
      "cell_type": "code",
      "source": [
        "mean = df['precio'].mean()\n",
        "std = df['precio'].std()\n",
        "print (mean)\n",
        "print (std)\n"
      ],
      "metadata": {
        "colab": {
          "base_uri": "https://localhost:8080/"
        },
        "id": "OzPnuoSa06m1",
        "outputId": "c5da2ae6-5e09-45b4-bfd2-6f37c057e093"
      },
      "execution_count": null,
      "outputs": [
        {
          "output_type": "stream",
          "name": "stdout",
          "text": [
            "17697.980255307342\n",
            "9603.887271827698\n"
          ]
        }
      ]
    },
    {
      "cell_type": "code",
      "source": [
        "upper_limit = mean + 3 * std\n",
        "lower_limit = mean - 3 * std\n",
        "print (upper_limit)\n",
        "print (lower_limit)"
      ],
      "metadata": {
        "colab": {
          "base_uri": "https://localhost:8080/"
        },
        "id": "oV4YbFm-1EQ_",
        "outputId": "2c45b1e6-6cf1-45e5-fe1b-9b60e0871f6b"
      },
      "execution_count": null,
      "outputs": [
        {
          "output_type": "stream",
          "name": "stdout",
          "text": [
            "46509.64207079043\n",
            "-11113.681560175752\n"
          ]
        }
      ]
    },
    {
      "cell_type": "code",
      "source": [
        "df['is_outlier'] = np.where((df['precio'] > upper_limit) | (df['precio'] < lower_limit), True, False)\n"
      ],
      "metadata": {
        "id": "HxrAlLiE1Ygk"
      },
      "execution_count": null,
      "outputs": []
    },
    {
      "cell_type": "code",
      "source": [
        "df.info()"
      ],
      "metadata": {
        "colab": {
          "base_uri": "https://localhost:8080/"
        },
        "id": "eYRnN9bh1tGf",
        "outputId": "97e1516b-d854-458e-9aa7-01621500ae96"
      },
      "execution_count": null,
      "outputs": [
        {
          "output_type": "stream",
          "name": "stdout",
          "text": [
            "<class 'pandas.core.frame.DataFrame'>\n",
            "RangeIndex: 129726 entries, 0 to 129725\n",
            "Data columns (total 22 columns):\n",
            " #   Column           Non-Null Count   Dtype  \n",
            "---  ------           --------------   -----  \n",
            " 0   id_articulo      129726 non-null  object \n",
            " 1   nombre_articulo  129726 non-null  object \n",
            " 2   temporada        129726 non-null  object \n",
            " 3   division         129726 non-null  object \n",
            " 4   edad             129726 non-null  object \n",
            " 5   genero           129726 non-null  object \n",
            " 6   tipo_producto    129726 non-null  object \n",
            " 7   categoria        129726 non-null  object \n",
            " 8   precio           129726 non-null  float64\n",
            " 9   qty_inventario   129726 non-null  int64  \n",
            " 10  nombre_canal     129726 non-null  object \n",
            " 11  nombre_inv       129726 non-null  object \n",
            " 12  fecha_pedido     129726 non-null  object \n",
            " 13  id_cliente       129726 non-null  object \n",
            " 14  nombre_cliente   99016 non-null   object \n",
            " 15  id_compra        129726 non-null  int64  \n",
            " 16  id_fabrica       102743 non-null  object \n",
            " 17  nombre_fabrica   102743 non-null  object \n",
            " 18  ciudad_fabrica   102743 non-null  object \n",
            " 19  pais_fabrica     102743 non-null  object \n",
            " 20  fecha_entrega    102743 non-null  object \n",
            " 21  is_outlier       129726 non-null  bool   \n",
            "dtypes: bool(1), float64(1), int64(2), object(18)\n",
            "memory usage: 20.9+ MB\n"
          ]
        }
      ]
    },
    {
      "cell_type": "code",
      "source": [
        "data = df[df['is_outlier'] == False]\n",
        "print (data)"
      ],
      "metadata": {
        "colab": {
          "base_uri": "https://localhost:8080/"
        },
        "id": "nSXVAixn15-w",
        "outputId": "3d222107-e6ed-4614-d33a-c33322cedace"
      },
      "execution_count": null,
      "outputs": [
        {
          "output_type": "stream",
          "name": "stdout",
          "text": [
            "       id_articulo nombre_articulo temporada  division   edad  genero  \\\n",
            "0            15110    COPA MUNDIAL       22F  Footwear  Adult     Man   \n",
            "1            15110    COPA MUNDIAL       22F  Footwear  Adult     Man   \n",
            "2            19228    MUNDIAL TEAM       22F  Footwear  Adult     Man   \n",
            "3            19228    MUNDIAL TEAM       22F  Footwear  Adult     Man   \n",
            "4           280647        ADILETTE       22F  Footwear  Adult     Man   \n",
            "...            ...             ...       ...       ...    ...     ...   \n",
            "129721      S24035       TENSAUR K       22S  Footwear   Kids  Unisex   \n",
            "129722      S24035       TENSAUR K       22S  Footwear   Kids  Unisex   \n",
            "129723      S24035       TENSAUR K       22S  Footwear   Kids  Unisex   \n",
            "129724      S24035       TENSAUR K       22S  Footwear   Kids  Unisex   \n",
            "129725      S24035       TENSAUR K       22S  Footwear   Kids  Unisex   \n",
            "\n",
            "           tipo_producto   categoria   precio  qty_inventario  ...  \\\n",
            "0                  SHOES    FOOTBALL  43199.1               3  ...   \n",
            "1                  SHOES    FOOTBALL  43199.1              77  ...   \n",
            "2                  SHOES    FOOTBALL  31499.1               3  ...   \n",
            "3                  SHOES    FOOTBALL  31499.1              43  ...   \n",
            "4       SANDALS/SLIPPERS   ORIGINALS  10799.1             102  ...   \n",
            "...                  ...         ...      ...             ...  ...   \n",
            "129721             SHOES  SPORTSWEAR  12599.1              38  ...   \n",
            "129722             SHOES  SPORTSWEAR  12599.1              65  ...   \n",
            "129723             SHOES  SPORTSWEAR  12599.1              35  ...   \n",
            "129724             SHOES  SPORTSWEAR  12599.1               4  ...   \n",
            "129725             SHOES  SPORTSWEAR  12599.1             227  ...   \n",
            "\n",
            "       fecha_pedido   id_cliente           nombre_cliente  id_compra  \\\n",
            "0        00/00/0000                                   NaN  295767087   \n",
            "1        11/28/2023                                   NaN  295767087   \n",
            "2        00/00/0000                                   NaN  295767596   \n",
            "3        11/28/2023                                   NaN  295767596   \n",
            "4          5/9/2023       550095             BLOISE HNOS.  295310823   \n",
            "...             ...          ...                      ...        ...   \n",
            "129721    7/12/2023       550095             BLOISE HNOS.  293835529   \n",
            "129722    7/12/2023       551152         DABRA S A DEXTER  293835529   \n",
            "129723    7/12/2023       550071           ESSENTIAL S.A.  293835529   \n",
            "129724    5/26/2023       551196  ADOLFO ZAKIAN EXCLUSIVO  293835529   \n",
            "129725   00/00/0000                                   NaN  293835529   \n",
            "\n",
            "       id_fabrica                                     nombre_fabrica  \\\n",
            "0          2ID001                 GELAL CORAP SANAYI VE TICARET A.S.   \n",
            "1          2ID001                 GELAL CORAP SANAYI VE TICARET A.S.   \n",
            "2          2ID001                 GELAL CORAP SANAYI VE TICARET A.S.   \n",
            "3          2ID001                 GELAL CORAP SANAYI VE TICARET A.S.   \n",
            "4          2ID003  GELAL CORAP SANAYI VE TICARET ANONIM SIRKETI S...   \n",
            "...           ...                                                ...   \n",
            "129721     A6D501                      INDUSTRIAS MANUFACTURERAS MYR   \n",
            "129722     A6D501                      INDUSTRIAS MANUFACTURERAS MYR   \n",
            "129723     A6D501                      INDUSTRIAS MANUFACTURERAS MYR   \n",
            "129724     A6D501                      INDUSTRIAS MANUFACTURERAS MYR   \n",
            "129725     A6D501                      INDUSTRIAS MANUFACTURERAS MYR   \n",
            "\n",
            "       ciudad_fabrica pais_fabrica fecha_entrega is_outlier  \n",
            "0            ISTANBUL       TURKEY     6/28/2023      False  \n",
            "1            ISTANBUL       TURKEY     6/28/2023      False  \n",
            "2            ISTANBUL       TURKEY     6/28/2023      False  \n",
            "3            ISTANBUL       TURKEY     6/28/2023      False  \n",
            "4             CANKIRI       TURKEY     3/30/2023      False  \n",
            "...               ...          ...           ...        ...  \n",
            "129721       IRAPUATO       MEXICO     3/28/2023      False  \n",
            "129722       IRAPUATO       MEXICO     3/28/2023      False  \n",
            "129723       IRAPUATO       MEXICO     3/28/2023      False  \n",
            "129724       IRAPUATO       MEXICO     3/28/2023      False  \n",
            "129725       IRAPUATO       MEXICO     3/28/2023      False  \n",
            "\n",
            "[127797 rows x 22 columns]\n"
          ]
        }
      ]
    },
    {
      "cell_type": "markdown",
      "source": [
        "Se eliminaron outliers filas originales 129726 vs 127797"
      ],
      "metadata": {
        "id": "tSS0hVsa3Oc7"
      }
    }
  ]
}