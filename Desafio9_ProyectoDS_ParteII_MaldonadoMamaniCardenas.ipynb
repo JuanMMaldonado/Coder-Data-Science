{
  "nbformat": 4,
  "nbformat_minor": 0,
  "metadata": {
    "colab": {
      "provenance": [],
      "toc_visible": true,
      "include_colab_link": true
    },
    "kernelspec": {
      "name": "python3",
      "display_name": "Python 3"
    },
    "language_info": {
      "name": "python"
    }
  },
  "cells": [
    {
      "cell_type": "markdown",
      "metadata": {
        "id": "view-in-github",
        "colab_type": "text"
      },
      "source": [
        "<a href=\"https://colab.research.google.com/github/JuanMMaldonado/Coder-Data-Science/blob/main/Desafio9_ProyectoDS_ParteII_MaldonadoMamaniCardenas.ipynb\" target=\"_parent\"><img src=\"https://colab.research.google.com/assets/colab-badge.svg\" alt=\"Open In Colab\"/></a>"
      ]
    },
    {
      "cell_type": "markdown",
      "source": [
        "# Abstracto"
      ],
      "metadata": {
        "id": "SGV_JWHOEWh1"
      }
    },
    {
      "cell_type": "code",
      "source": [
        "# Abstracto con Motivacion y Audiencia"
      ],
      "metadata": {
        "id": "VankZ8EZFK5F"
      },
      "execution_count": null,
      "outputs": []
    },
    {
      "cell_type": "markdown",
      "source": [
        "El dataset seleccionado consiste en el inventario actual de una compañía multinacional dedicada a la venta de calzado, indumentaria y accesorios. A su vez, el inventario consiste en producto físico en el deposito (stock on-hand), producto en tránsito (en transporte desde fabrica al deposito) y producto en la línea de producción (en fabrica de origen). El objetivo del trabajo es identificar variables claves, analizar la información mediante métodos de data science y lograr un modelo de predicción de uso comercial que sirva para optimizar tiempos/costos de la compañía.  La audiencia de este trabajo serian la linea gerencial y/o directores con poder de toma de decisión sobre compras futuras."
      ],
      "metadata": {
        "id": "5V0Y1Pz53B3v"
      }
    },
    {
      "cell_type": "markdown",
      "source": [
        "# Preguntas/Hipótesis"
      ],
      "metadata": {
        "id": "wq1pBRvyEYzd"
      }
    },
    {
      "cell_type": "code",
      "source": [
        "# Preguntas e Hipotesis que queremos resolver mediante el analisis exploratorio de datos:\n",
        "#1 En base al historico de inventario, determinar las categorias de los articulos a invertir a futuro\n",
        "#2 En base al historico de inventario, determinar el mix de compra para cada tipo de género\n",
        "#3 Que categoria para indumentaria de hombre es la mas vendida?"
      ],
      "metadata": {
        "id": "M2ORqhQUFROv"
      },
      "execution_count": null,
      "outputs": []
    },
    {
      "cell_type": "code",
      "source": [
        "import pandas as pd\n",
        "import requests\n",
        "import io\n",
        "import seaborn as sns\n",
        "import matplotlib.pyplot as plt\n",
        "import numpy as np"
      ],
      "metadata": {
        "id": "Wn7oEHvmzYUs"
      },
      "execution_count": null,
      "outputs": []
    },
    {
      "cell_type": "code",
      "source": [
        "\n",
        "# Reading the content and turning it into a pandas dataframe\n",
        "url = 'https://raw.githubusercontent.com/JuanMMaldonado/Coder-Data-Science/main/Data%20Set%20II%20Ok%20format-%20MRP%20Inventory.csv'\n",
        "df = pd.read_csv(url)\n"
      ],
      "metadata": {
        "id": "VVoHbTDoo8C2"
      },
      "execution_count": null,
      "outputs": []
    },
    {
      "cell_type": "code",
      "execution_count": null,
      "metadata": {
        "colab": {
          "base_uri": "https://localhost:8080/"
        },
        "id": "9bf86fe7",
        "outputId": "7e259ba9-36af-4c3e-d0c4-1a3a21590e04"
      },
      "outputs": [
        {
          "output_type": "stream",
          "name": "stdout",
          "text": [
            "<class 'pandas.core.frame.DataFrame'>\n",
            "RangeIndex: 129726 entries, 0 to 129725\n",
            "Data columns (total 21 columns):\n",
            " #   Column           Non-Null Count   Dtype  \n",
            "---  ------           --------------   -----  \n",
            " 0   id_articulo      129726 non-null  object \n",
            " 1   nombre_articulo  129726 non-null  object \n",
            " 2   temporada        129726 non-null  object \n",
            " 3   division         129726 non-null  object \n",
            " 4   edad             129726 non-null  object \n",
            " 5   genero           129726 non-null  object \n",
            " 6   tipo_producto    129726 non-null  object \n",
            " 7   categoria        129726 non-null  object \n",
            " 8   precio           129726 non-null  float64\n",
            " 9   qty_inventario   129726 non-null  int64  \n",
            " 10  nombre_canal     129726 non-null  object \n",
            " 11  nombre_inv       129726 non-null  object \n",
            " 12  fecha_pedido     129726 non-null  object \n",
            " 13  id_cliente       129726 non-null  object \n",
            " 14  nombre_cliente   99016 non-null   object \n",
            " 15  id_compra        129726 non-null  int64  \n",
            " 16  id_fabrica       102743 non-null  object \n",
            " 17  nombre_fabrica   102743 non-null  object \n",
            " 18  ciudad_fabrica   102743 non-null  object \n",
            " 19  pais_fabrica     102743 non-null  object \n",
            " 20  fecha_entrega    102743 non-null  object \n",
            "dtypes: float64(1), int64(2), object(18)\n",
            "memory usage: 20.8+ MB\n"
          ]
        }
      ],
      "source": [
        "df.info()"
      ]
    },
    {
      "cell_type": "code",
      "source": [
        "filtered_df = df[(df['division'] == 'apparel') & (df['genero'] == 'Man')]"
      ],
      "metadata": {
        "id": "7JuEkxxOfjUd"
      },
      "execution_count": null,
      "outputs": []
    },
    {
      "cell_type": "code",
      "source": [
        "df_num = df.select_dtypes('number') # datos númericos\n",
        "df_num['genero'] = df['genero']\n",
        "df_num.head()"
      ],
      "metadata": {
        "colab": {
          "base_uri": "https://localhost:8080/",
          "height": 206
        },
        "id": "IjUhJD-9KtkC",
        "outputId": "5e156dd5-51ac-4875-f947-c883e5284393"
      },
      "execution_count": null,
      "outputs": [
        {
          "output_type": "execute_result",
          "data": {
            "text/plain": [
              "    precio  qty_inventario  id_compra genero\n",
              "0  43199.1               3  295767087    Man\n",
              "1  43199.1              77  295767087    Man\n",
              "2  31499.1               3  295767596    Man\n",
              "3  31499.1              43  295767596    Man\n",
              "4  10799.1             102  295310823    Man"
            ],
            "text/html": [
              "\n",
              "  <div id=\"df-facc7eb8-e56a-437b-9e3d-55098ef4b9bc\">\n",
              "    <div class=\"colab-df-container\">\n",
              "      <div>\n",
              "<style scoped>\n",
              "    .dataframe tbody tr th:only-of-type {\n",
              "        vertical-align: middle;\n",
              "    }\n",
              "\n",
              "    .dataframe tbody tr th {\n",
              "        vertical-align: top;\n",
              "    }\n",
              "\n",
              "    .dataframe thead th {\n",
              "        text-align: right;\n",
              "    }\n",
              "</style>\n",
              "<table border=\"1\" class=\"dataframe\">\n",
              "  <thead>\n",
              "    <tr style=\"text-align: right;\">\n",
              "      <th></th>\n",
              "      <th>precio</th>\n",
              "      <th>qty_inventario</th>\n",
              "      <th>id_compra</th>\n",
              "      <th>genero</th>\n",
              "    </tr>\n",
              "  </thead>\n",
              "  <tbody>\n",
              "    <tr>\n",
              "      <th>0</th>\n",
              "      <td>43199.1</td>\n",
              "      <td>3</td>\n",
              "      <td>295767087</td>\n",
              "      <td>Man</td>\n",
              "    </tr>\n",
              "    <tr>\n",
              "      <th>1</th>\n",
              "      <td>43199.1</td>\n",
              "      <td>77</td>\n",
              "      <td>295767087</td>\n",
              "      <td>Man</td>\n",
              "    </tr>\n",
              "    <tr>\n",
              "      <th>2</th>\n",
              "      <td>31499.1</td>\n",
              "      <td>3</td>\n",
              "      <td>295767596</td>\n",
              "      <td>Man</td>\n",
              "    </tr>\n",
              "    <tr>\n",
              "      <th>3</th>\n",
              "      <td>31499.1</td>\n",
              "      <td>43</td>\n",
              "      <td>295767596</td>\n",
              "      <td>Man</td>\n",
              "    </tr>\n",
              "    <tr>\n",
              "      <th>4</th>\n",
              "      <td>10799.1</td>\n",
              "      <td>102</td>\n",
              "      <td>295310823</td>\n",
              "      <td>Man</td>\n",
              "    </tr>\n",
              "  </tbody>\n",
              "</table>\n",
              "</div>\n",
              "      <button class=\"colab-df-convert\" onclick=\"convertToInteractive('df-facc7eb8-e56a-437b-9e3d-55098ef4b9bc')\"\n",
              "              title=\"Convert this dataframe to an interactive table.\"\n",
              "              style=\"display:none;\">\n",
              "        \n",
              "  <svg xmlns=\"http://www.w3.org/2000/svg\" height=\"24px\"viewBox=\"0 0 24 24\"\n",
              "       width=\"24px\">\n",
              "    <path d=\"M0 0h24v24H0V0z\" fill=\"none\"/>\n",
              "    <path d=\"M18.56 5.44l.94 2.06.94-2.06 2.06-.94-2.06-.94-.94-2.06-.94 2.06-2.06.94zm-11 1L8.5 8.5l.94-2.06 2.06-.94-2.06-.94L8.5 2.5l-.94 2.06-2.06.94zm10 10l.94 2.06.94-2.06 2.06-.94-2.06-.94-.94-2.06-.94 2.06-2.06.94z\"/><path d=\"M17.41 7.96l-1.37-1.37c-.4-.4-.92-.59-1.43-.59-.52 0-1.04.2-1.43.59L10.3 9.45l-7.72 7.72c-.78.78-.78 2.05 0 2.83L4 21.41c.39.39.9.59 1.41.59.51 0 1.02-.2 1.41-.59l7.78-7.78 2.81-2.81c.8-.78.8-2.07 0-2.86zM5.41 20L4 18.59l7.72-7.72 1.47 1.35L5.41 20z\"/>\n",
              "  </svg>\n",
              "      </button>\n",
              "      \n",
              "  <style>\n",
              "    .colab-df-container {\n",
              "      display:flex;\n",
              "      flex-wrap:wrap;\n",
              "      gap: 12px;\n",
              "    }\n",
              "\n",
              "    .colab-df-convert {\n",
              "      background-color: #E8F0FE;\n",
              "      border: none;\n",
              "      border-radius: 50%;\n",
              "      cursor: pointer;\n",
              "      display: none;\n",
              "      fill: #1967D2;\n",
              "      height: 32px;\n",
              "      padding: 0 0 0 0;\n",
              "      width: 32px;\n",
              "    }\n",
              "\n",
              "    .colab-df-convert:hover {\n",
              "      background-color: #E2EBFA;\n",
              "      box-shadow: 0px 1px 2px rgba(60, 64, 67, 0.3), 0px 1px 3px 1px rgba(60, 64, 67, 0.15);\n",
              "      fill: #174EA6;\n",
              "    }\n",
              "\n",
              "    [theme=dark] .colab-df-convert {\n",
              "      background-color: #3B4455;\n",
              "      fill: #D2E3FC;\n",
              "    }\n",
              "\n",
              "    [theme=dark] .colab-df-convert:hover {\n",
              "      background-color: #434B5C;\n",
              "      box-shadow: 0px 1px 3px 1px rgba(0, 0, 0, 0.15);\n",
              "      filter: drop-shadow(0px 1px 2px rgba(0, 0, 0, 0.3));\n",
              "      fill: #FFFFFF;\n",
              "    }\n",
              "  </style>\n",
              "\n",
              "      <script>\n",
              "        const buttonEl =\n",
              "          document.querySelector('#df-facc7eb8-e56a-437b-9e3d-55098ef4b9bc button.colab-df-convert');\n",
              "        buttonEl.style.display =\n",
              "          google.colab.kernel.accessAllowed ? 'block' : 'none';\n",
              "\n",
              "        async function convertToInteractive(key) {\n",
              "          const element = document.querySelector('#df-facc7eb8-e56a-437b-9e3d-55098ef4b9bc');\n",
              "          const dataTable =\n",
              "            await google.colab.kernel.invokeFunction('convertToInteractive',\n",
              "                                                     [key], {});\n",
              "          if (!dataTable) return;\n",
              "\n",
              "          const docLinkHtml = 'Like what you see? Visit the ' +\n",
              "            '<a target=\"_blank\" href=https://colab.research.google.com/notebooks/data_table.ipynb>data table notebook</a>'\n",
              "            + ' to learn more about interactive tables.';\n",
              "          element.innerHTML = '';\n",
              "          dataTable['output_type'] = 'display_data';\n",
              "          await google.colab.output.renderOutput(dataTable, element);\n",
              "          const docLink = document.createElement('div');\n",
              "          docLink.innerHTML = docLinkHtml;\n",
              "          element.appendChild(docLink);\n",
              "        }\n",
              "      </script>\n",
              "    </div>\n",
              "  </div>\n",
              "  "
            ]
          },
          "metadata": {},
          "execution_count": 28
        }
      ]
    },
    {
      "cell_type": "code",
      "source": [
        "df.columns"
      ],
      "metadata": {
        "colab": {
          "base_uri": "https://localhost:8080/"
        },
        "id": "obdvRmPM300Y",
        "outputId": "4ebd86a8-b271-4a71-da41-f003f9f41dad"
      },
      "execution_count": null,
      "outputs": [
        {
          "output_type": "execute_result",
          "data": {
            "text/plain": [
              "Index(['id_articulo', 'nombre_articulo', 'temporada', 'division', 'edad',\n",
              "       'genero', 'tipo_producto', 'categoria', 'precio', 'qty_inventario',\n",
              "       'nombre_canal', 'nombre_inv', 'fecha_pedido', 'id_cliente',\n",
              "       'nombre_cliente', 'id_compra', 'id_fabrica', 'nombre_fabrica',\n",
              "       'ciudad_fabrica', 'pais_fabrica', 'fecha_entrega'],\n",
              "      dtype='object')"
            ]
          },
          "metadata": {},
          "execution_count": 6
        }
      ]
    },
    {
      "cell_type": "code",
      "source": [
        "## nos quedamos con las columnas sin procesar outliers:\n",
        "columnas1 = df_num.columns.tolist()[:-1]\n",
        "columnas1"
      ],
      "metadata": {
        "colab": {
          "base_uri": "https://localhost:8080/"
        },
        "id": "DIe8X7Q5hG6w",
        "outputId": "7d9b9b95-5e84-4e2c-f8b7-45fbd2280438"
      },
      "execution_count": null,
      "outputs": [
        {
          "output_type": "execute_result",
          "data": {
            "text/plain": [
              "['precio', 'qty_inventario', 'id_compra']"
            ]
          },
          "metadata": {},
          "execution_count": 7
        }
      ]
    },
    {
      "cell_type": "code",
      "source": [
        "d_desc = {'id_articulo':'codigo de articulo', 'nombre_articulo':'descripcion del articulo', 'temporada':'temporada caldenario de venta', 'division':'calzado/indumentaria/accesorios', 'edad':'edad de consumidor apuntado',\n",
        "       'genero':'genero de consumidor apuntado', 'tipo_producto':'breve descr del producto', 'categoria':'segmento del producto', 'precio':'precio de venta', 'qty_inventario':'cantidad en inventario',\n",
        "       'nombre_canal':'canal de venta', 'nombre_inv':'estado de inventario', 'fecha_pedido':'fecha de preventa', 'id_cliente':'codigo de cliente',\n",
        "       'nombre_cliente':'nombre de cliente', 'id_compra':'codigo de orden de compra', 'id_fabrica':'codigo de fabrica', 'nombre_fabrica':'nombre de la fabrica',\n",
        "       'ciudad_fabrica':'ciudad origen de la fabrica', 'pais_fabrica':'pais origen de la fabrica', 'fecha_entrega':'fecha de entrega pactada'}"
      ],
      "metadata": {
        "id": "P5A8Pk7T9dBG"
      },
      "execution_count": null,
      "outputs": []
    },
    {
      "cell_type": "code",
      "execution_count": null,
      "metadata": {
        "id": "sB7QmOfqQziU"
      },
      "outputs": [],
      "source": [
        "df_num.drop_duplicates(inplace=True) #df_num = df_num.drop_duplicates()"
      ]
    },
    {
      "cell_type": "code",
      "source": [
        "df_num.genero.unique()"
      ],
      "metadata": {
        "colab": {
          "base_uri": "https://localhost:8080/"
        },
        "id": "m_fdqomNwtlC",
        "outputId": "ded9f176-2ef1-45a1-b996-8105a23ae928"
      },
      "execution_count": null,
      "outputs": [
        {
          "output_type": "execute_result",
          "data": {
            "text/plain": [
              "array(['Man', 'Woman', 'Unisex'], dtype=object)"
            ]
          },
          "metadata": {},
          "execution_count": 10
        }
      ]
    },
    {
      "cell_type": "code",
      "source": [
        "## Convertimos la variable target a valores enteros\n",
        "df_num['genero'] = df_num.genero.map({'Man':0, 'Woman':1, 'Unisex':3})"
      ],
      "metadata": {
        "id": "5353RS3kwcyb"
      },
      "execution_count": null,
      "outputs": []
    },
    {
      "cell_type": "code",
      "source": [
        "# split del dataset\n",
        "from sklearn.model_selection import train_test_split"
      ],
      "metadata": {
        "id": "h0adYDRZcn_J"
      },
      "execution_count": null,
      "outputs": []
    },
    {
      "cell_type": "code",
      "source": [
        "# separamos las caracteristicas/features del target\n",
        "X = df_num[columnas1] #.drop('y', axis=1)\n",
        "y = df_num['genero']"
      ],
      "metadata": {
        "id": "HCvWohP0elZK"
      },
      "execution_count": null,
      "outputs": []
    },
    {
      "cell_type": "code",
      "execution_count": null,
      "metadata": {
        "id": "43685db4",
        "outputId": "e1af2c34-cff7-4222-eb49-e98181c9d4a0",
        "colab": {
          "base_uri": "https://localhost:8080/"
        }
      },
      "outputs": [
        {
          "output_type": "stream",
          "name": "stdout",
          "text": [
            "Tamaño del set de entrenamiento: (68288, 3)\n",
            "Tamaño del set de testeo: (17072, 3)\n"
          ]
        }
      ],
      "source": [
        "# train test split\n",
        "\n",
        "X_train, X_test, y_train, y_test = train_test_split(X, y,\n",
        "                                                    test_size=0.2,\n",
        "                                                    random_state=33,\n",
        "                                                    stratify= y)\n",
        "\n",
        "\n",
        "print('Tamaño del set de entrenamiento:', X_train.shape)\n",
        "print('Tamaño del set de testeo:', X_test.shape)"
      ]
    },
    {
      "cell_type": "code",
      "source": [
        "#aplicar arbol de decision?\n",
        "\n",
        "for col in ['genero', 'precio', 'qty_inventario']:\n",
        "    print(col, d_desc[col])\n",
        "    sns.violinplot(x='genero', y=col, data=df_num)\n",
        "    plt.show()"
      ],
      "metadata": {
        "id": "KktrsUVpVRds",
        "colab": {
          "base_uri": "https://localhost:8080/",
          "height": 1000
        },
        "outputId": "f7f22c51-e3e6-4753-9a86-51cc4d169fdc"
      },
      "execution_count": null,
      "outputs": [
        {
          "output_type": "stream",
          "name": "stdout",
          "text": [
            "genero genero de consumidor apuntado\n"
          ]
        },
        {
          "output_type": "display_data",
          "data": {
            "text/plain": [
              "<Figure size 640x480 with 1 Axes>"
            ],
            "image/png": "[encoded data removed]"
          },
          "metadata": {}
        },
        {
          "output_type": "stream",
          "name": "stdout",
          "text": [
            "precio precio de venta\n"
          ]
        },
        {
          "output_type": "display_data",
          "data": {
            "text/plain": [
              "<Figure size 640x480 with 1 Axes>"
            ],
            "image/png": "[encoded data removed]"
          },
          "metadata": {}
        },
        {
          "output_type": "stream",
          "name": "stdout",
          "text": [
            "qty_inventario cantidad en inventario\n"
          ]
        },
        {
          "output_type": "display_data",
          "data": {
            "text/plain": [
              "<Figure size 640x480 with 1 Axes>"
            ],
            "image/png": "[encoded data removed]"
          },
          "metadata": {}
        }
      ]
    },
    {
      "cell_type": "markdown",
      "source": [
        "# EDA"
      ],
      "metadata": {
        "id": "ECftzJNBFfXM"
      }
    },
    {
      "cell_type": "code",
      "source": [
        "# Analisis Exploratorio de Datos"
      ],
      "metadata": {
        "id": "gCxX5uTBFisI"
      },
      "execution_count": null,
      "outputs": []
    },
    {
      "cell_type": "code",
      "source": [
        "#Histograma por categorias\n",
        "h = sns.histplot(data=df, x=\"temporada\", hue=\"division\", multiple=\"stack\")\n",
        "\n",
        "plt.xticks(rotation = 45)\n"
      ],
      "metadata": {
        "colab": {
          "base_uri": "https://localhost:8080/",
          "height": 665
        },
        "id": "Vpusw5p7sIld",
        "outputId": "8c9a632a-d9fd-4970-8f93-aa4dc66d1963"
      },
      "execution_count": null,
      "outputs": [
        {
          "output_type": "execute_result",
          "data": {
            "text/plain": [
              "([0, 1, 2, 3, 4, 5, 6, 7, 8, 9],\n",
              " [Text(0, 0, '22F'),\n",
              "  Text(1, 0, '20S'),\n",
              "  Text(2, 0, '22S'),\n",
              "  Text(3, 0, '21F'),\n",
              "  Text(4, 0, '20F'),\n",
              "  Text(5, 0, '19F'),\n",
              "  Text(6, 0, '19S'),\n",
              "  Text(7, 0, '18F'),\n",
              "  Text(8, 0, '21S'),\n",
              "  Text(9, 0, '23S')])"
            ]
          },
          "metadata": {},
          "execution_count": 18
        },
        {
          "output_type": "display_data",
          "data": {
            "text/plain": [
              "<Figure size 640x480 with 1 Axes>"
            ],
            "image/png": "[encoded data removed]"
          },
          "metadata": {}
        }
      ]
    },
    {
      "cell_type": "code",
      "source": [
        "#Histograma por genero\n",
        "h = sns.histplot(data=df, x=\"temporada\", hue=\"genero\", multiple=\"stack\")\n",
        "\n",
        "plt.xticks(rotation = 45)"
      ],
      "metadata": {
        "colab": {
          "base_uri": "https://localhost:8080/",
          "height": 665
        },
        "id": "BE7Jq-Md6Cbn",
        "outputId": "eaba33bb-69ca-4791-ab44-50d78ab14c1c"
      },
      "execution_count": null,
      "outputs": [
        {
          "output_type": "execute_result",
          "data": {
            "text/plain": [
              "([0, 1, 2, 3, 4, 5, 6, 7, 8, 9],\n",
              " [Text(0, 0, '22F'),\n",
              "  Text(1, 0, '20S'),\n",
              "  Text(2, 0, '22S'),\n",
              "  Text(3, 0, '21F'),\n",
              "  Text(4, 0, '20F'),\n",
              "  Text(5, 0, '19F'),\n",
              "  Text(6, 0, '19S'),\n",
              "  Text(7, 0, '18F'),\n",
              "  Text(8, 0, '21S'),\n",
              "  Text(9, 0, '23S')])"
            ]
          },
          "metadata": {},
          "execution_count": 19
        },
        {
          "output_type": "display_data",
          "data": {
            "text/plain": [
              "<Figure size 640x480 with 1 Axes>"
            ],
            "image/png": "[encoded data removed]"
          },
          "metadata": {}
        }
      ]
    },
    {
      "cell_type": "code",
      "source": [
        "#Boxplot de precios por temporada\n",
        "ax = sns.boxplot(x=\"temporada\", y=\"precio\", data=df, order=[\"18F\",\"19S\",\"19F\",\"20S\",\"20F\",\"21S\",\"22F\",\"23S\"])"
      ],
      "metadata": {
        "colab": {
          "base_uri": "https://localhost:8080/",
          "height": 279
        },
        "id": "vzkN0WST1Orw",
        "outputId": "006337bf-35d7-48a9-fe41-c7cc105b1c40"
      },
      "execution_count": null,
      "outputs": [
        {
          "output_type": "display_data",
          "data": {
            "text/plain": [
              "<Figure size 432x288 with 1 Axes>"
            ],
            "image/png": "[encoded data removed]"
          },
          "metadata": {
            "needs_background": "light"
          }
        }
      ]
    },
    {
      "cell_type": "code",
      "source": [
        "filtered_df = df[(df['division'] == 'Apparel') & (df['genero'] == 'Man')]"
      ],
      "metadata": {
        "id": "F_8zjs3JcBIP"
      },
      "execution_count": null,
      "outputs": []
    },
    {
      "cell_type": "code",
      "source": [
        "grouped = filtered_df.groupby(\"categoria\").sum()"
      ],
      "metadata": {
        "colab": {
          "base_uri": "https://localhost:8080/"
        },
        "id": "d1sKtJZ8cUGT",
        "outputId": "286a10fc-d010-462a-ce76-ca3101753e57"
      },
      "execution_count": null,
      "outputs": [
        {
          "output_type": "stream",
          "name": "stderr",
          "text": [
            "<ipython-input-30-fb448f189d39>:1: FutureWarning: The default value of numeric_only in DataFrameGroupBy.sum is deprecated. In a future version, numeric_only will default to False. Either specify numeric_only or select only columns which should be valid for the function.\n",
            "  grouped = filtered_df.groupby(\"categoria\").sum()\n"
          ]
        }
      ]
    },
    {
      "cell_type": "code",
      "source": [
        "print (filtered_df)"
      ],
      "metadata": {
        "colab": {
          "base_uri": "https://localhost:8080/"
        },
        "id": "dAsPrMJ7eJ_n",
        "outputId": "25db2206-b819-4b90-a718-976833426ad8"
      },
      "execution_count": null,
      "outputs": [
        {
          "output_type": "stream",
          "name": "stdout",
          "text": [
            "       id_articulo nombre_articulo temporada division   edad genero  \\\n",
            "203         AC5254    PARMA 16 SHO       22S  Apparel  Adult    Man   \n",
            "204         AC5254    PARMA 16 SHO       22S  Apparel  Adult    Man   \n",
            "240         AJ5880    PARMA 16 SHO       22S  Apparel  Adult    Man   \n",
            "325         B47217  ESS LGO T P SJ       22F  Apparel  Adult    Man   \n",
            "326         B47217  ESS LGO T P SJ       22F  Apparel  Adult    Man   \n",
            "...            ...             ...       ...      ...    ...    ...   \n",
            "129098      IC5181      ANFP H SHO       22F  Apparel  Adult    Man   \n",
            "129099      IC5181      ANFP H SHO       22F  Apparel  Adult    Man   \n",
            "129100      IC5181      ANFP H SHO       22F  Apparel  Adult    Man   \n",
            "129101      IC5181      ANFP H SHO       22F  Apparel  Adult    Man   \n",
            "129103      P40195   TRG BIB PROMO       19S  Apparel  Adult    Man   \n",
            "\n",
            "       tipo_producto   categoria   precio  qty_inventario  ...     nombre_inv  \\\n",
            "203           SHORTS    FOOTBALL   6299.1             523  ...    En tránsito   \n",
            "204           SHORTS    FOOTBALL   6299.1               1  ...          Stock   \n",
            "240           SHORTS    FOOTBALL   6299.1               1  ...          Stock   \n",
            "325            PANTS  SPORTSWEAR  13499.1             114  ...    En tránsito   \n",
            "326            PANTS  SPORTSWEAR  13499.1              30  ...    En tránsito   \n",
            "...              ...         ...      ...             ...  ...            ...   \n",
            "129098        SHORTS    FOOTBALL   8999.1              22  ...  En producción   \n",
            "129099        SHORTS    FOOTBALL   8999.1              22  ...  En producción   \n",
            "129100        SHORTS    FOOTBALL   8999.1              29  ...  En producción   \n",
            "129101        SHORTS    FOOTBALL   8999.1               4  ...  En producción   \n",
            "129103          TOPS    FOOTBALL   4049.1               3  ...          Stock   \n",
            "\n",
            "       fecha_pedido   id_cliente                nombre_cliente  id_compra  \\\n",
            "203      00/00/0000                                        NaN  293352284   \n",
            "204      00/00/0000                                        NaN  121916237   \n",
            "240      00/00/0000                                        NaN  127200778   \n",
            "325        9/7/2023       550933  FELER GROUP S.A. (Exclusivo)  295306993   \n",
            "326       8/23/2023       550580                   POPPER S.A.  295306993   \n",
            "...             ...          ...                           ...        ...   \n",
            "129098    8/24/2023       551190      ANTONIO LUQUIN EXCLUSIVO  294706860   \n",
            "129099    8/17/2023       551190      ANTONIO LUQUIN EXCLUSIVO  294706860   \n",
            "129100    6/27/2023                                        NaN  294706860   \n",
            "129101    6/27/2023                                        NaN  295020949   \n",
            "129103   00/00/0000                                        NaN  107965705   \n",
            "\n",
            "        id_fabrica               nombre_fabrica ciudad_fabrica pais_fabrica  \\\n",
            "203         APU002  BOWKER YEE SING GARMENT FTY         XIAMEN        CHINA   \n",
            "204            NaN                          NaN            NaN          NaN   \n",
            "240            NaN                          NaN            NaN          NaN   \n",
            "325         26N004  CHALLENGE APPARELS LIMITED.         LAHORE     PAKISTAN   \n",
            "326         26N004  CHALLENGE APPARELS LIMITED.         LAHORE     PAKISTAN   \n",
            "...            ...                          ...            ...          ...   \n",
            "129098      APU002  BOWKER YEE SING GARMENT FTY         XIAMEN        CHINA   \n",
            "129099      APU002  BOWKER YEE SING GARMENT FTY         XIAMEN        CHINA   \n",
            "129100      APU002  BOWKER YEE SING GARMENT FTY         XIAMEN        CHINA   \n",
            "129101      APU002  BOWKER YEE SING GARMENT FTY         XIAMEN        CHINA   \n",
            "129103         NaN                          NaN            NaN          NaN   \n",
            "\n",
            "       fecha_entrega  \n",
            "203        4/28/2023  \n",
            "204              NaN  \n",
            "240              NaN  \n",
            "325        5/28/2023  \n",
            "326        5/28/2023  \n",
            "...              ...  \n",
            "129098     6/28/2023  \n",
            "129099     6/28/2023  \n",
            "129100     6/28/2023  \n",
            "129101     5/31/2023  \n",
            "129103           NaN  \n",
            "\n",
            "[44350 rows x 21 columns]\n"
          ]
        }
      ]
    },
    {
      "cell_type": "code",
      "source": [
        "print (df)"
      ],
      "metadata": {
        "colab": {
          "base_uri": "https://localhost:8080/"
        },
        "id": "CSwHR0mkeAkp",
        "outputId": "581b47fc-ccb5-4c0a-8778-88ec75fe51fb"
      },
      "execution_count": null,
      "outputs": [
        {
          "output_type": "stream",
          "name": "stdout",
          "text": [
            "       id_articulo nombre_articulo temporada  division   edad  genero  \\\n",
            "0            15110    COPA MUNDIAL       22F  Footwear  Adult     Man   \n",
            "1            15110    COPA MUNDIAL       22F  Footwear  Adult     Man   \n",
            "2            19228    MUNDIAL TEAM       22F  Footwear  Adult     Man   \n",
            "3            19228    MUNDIAL TEAM       22F  Footwear  Adult     Man   \n",
            "4           280647        ADILETTE       22F  Footwear  Adult     Man   \n",
            "...            ...             ...       ...       ...    ...     ...   \n",
            "129721      S24035       TENSAUR K       22S  Footwear   Kids  Unisex   \n",
            "129722      S24035       TENSAUR K       22S  Footwear   Kids  Unisex   \n",
            "129723      S24035       TENSAUR K       22S  Footwear   Kids  Unisex   \n",
            "129724      S24035       TENSAUR K       22S  Footwear   Kids  Unisex   \n",
            "129725      S24035       TENSAUR K       22S  Footwear   Kids  Unisex   \n",
            "\n",
            "           tipo_producto   categoria   precio  qty_inventario  ...  \\\n",
            "0                  SHOES    FOOTBALL  43199.1               3  ...   \n",
            "1                  SHOES    FOOTBALL  43199.1              77  ...   \n",
            "2                  SHOES    FOOTBALL  31499.1               3  ...   \n",
            "3                  SHOES    FOOTBALL  31499.1              43  ...   \n",
            "4       SANDALS/SLIPPERS   ORIGINALS  10799.1             102  ...   \n",
            "...                  ...         ...      ...             ...  ...   \n",
            "129721             SHOES  SPORTSWEAR  12599.1              38  ...   \n",
            "129722             SHOES  SPORTSWEAR  12599.1              65  ...   \n",
            "129723             SHOES  SPORTSWEAR  12599.1              35  ...   \n",
            "129724             SHOES  SPORTSWEAR  12599.1               4  ...   \n",
            "129725             SHOES  SPORTSWEAR  12599.1             227  ...   \n",
            "\n",
            "           nombre_inv fecha_pedido   id_cliente           nombre_cliente  \\\n",
            "0       En producción   00/00/0000                                   NaN   \n",
            "1       En producción   11/28/2023                                   NaN   \n",
            "2       En producción   00/00/0000                                   NaN   \n",
            "3       En producción   11/28/2023                                   NaN   \n",
            "4       En producción     5/9/2023       550095             BLOISE HNOS.   \n",
            "...               ...          ...          ...                      ...   \n",
            "129721  En producción    7/12/2023       550095             BLOISE HNOS.   \n",
            "129722  En producción    7/12/2023       551152         DABRA S A DEXTER   \n",
            "129723  En producción    7/12/2023       550071           ESSENTIAL S.A.   \n",
            "129724  En producción    5/26/2023       551196  ADOLFO ZAKIAN EXCLUSIVO   \n",
            "129725  En producción   00/00/0000                                   NaN   \n",
            "\n",
            "        id_compra  id_fabrica  \\\n",
            "0       295767087      2ID001   \n",
            "1       295767087      2ID001   \n",
            "2       295767596      2ID001   \n",
            "3       295767596      2ID001   \n",
            "4       295310823      2ID003   \n",
            "...           ...         ...   \n",
            "129721  293835529      A6D501   \n",
            "129722  293835529      A6D501   \n",
            "129723  293835529      A6D501   \n",
            "129724  293835529      A6D501   \n",
            "129725  293835529      A6D501   \n",
            "\n",
            "                                           nombre_fabrica ciudad_fabrica  \\\n",
            "0                      GELAL CORAP SANAYI VE TICARET A.S.       ISTANBUL   \n",
            "1                      GELAL CORAP SANAYI VE TICARET A.S.       ISTANBUL   \n",
            "2                      GELAL CORAP SANAYI VE TICARET A.S.       ISTANBUL   \n",
            "3                      GELAL CORAP SANAYI VE TICARET A.S.       ISTANBUL   \n",
            "4       GELAL CORAP SANAYI VE TICARET ANONIM SIRKETI S...        CANKIRI   \n",
            "...                                                   ...            ...   \n",
            "129721                      INDUSTRIAS MANUFACTURERAS MYR       IRAPUATO   \n",
            "129722                      INDUSTRIAS MANUFACTURERAS MYR       IRAPUATO   \n",
            "129723                      INDUSTRIAS MANUFACTURERAS MYR       IRAPUATO   \n",
            "129724                      INDUSTRIAS MANUFACTURERAS MYR       IRAPUATO   \n",
            "129725                      INDUSTRIAS MANUFACTURERAS MYR       IRAPUATO   \n",
            "\n",
            "       pais_fabrica fecha_entrega  \n",
            "0            TURKEY     6/28/2023  \n",
            "1            TURKEY     6/28/2023  \n",
            "2            TURKEY     6/28/2023  \n",
            "3            TURKEY     6/28/2023  \n",
            "4            TURKEY     3/30/2023  \n",
            "...             ...           ...  \n",
            "129721       MEXICO     3/28/2023  \n",
            "129722       MEXICO     3/28/2023  \n",
            "129723       MEXICO     3/28/2023  \n",
            "129724       MEXICO     3/28/2023  \n",
            "129725       MEXICO     3/28/2023  \n",
            "\n",
            "[129726 rows x 21 columns]\n"
          ]
        }
      ]
    },
    {
      "cell_type": "code",
      "source": [
        "print (grouped)"
      ],
      "metadata": {
        "colab": {
          "base_uri": "https://localhost:8080/"
        },
        "id": "arEdxg0YcLyx",
        "outputId": "5f31ae92-748a-43e3-de66-7edca0bde571"
      },
      "execution_count": null,
      "outputs": [
        {
          "output_type": "stream",
          "name": "stdout",
          "text": [
            "Empty DataFrame\n",
            "Columns: [precio, qty_inventario, id_compra]\n",
            "Index: []\n"
          ]
        }
      ]
    },
    {
      "cell_type": "code",
      "source": [
        "categories = list(grouped.index)\n",
        "quantities = list(grouped[\"qty_inventario\"])"
      ],
      "metadata": {
        "id": "YEFmOf0NczGc"
      },
      "execution_count": null,
      "outputs": []
    },
    {
      "cell_type": "code",
      "source": [
        "plt.bar(categories, quantities)\n",
        "plt.xticks(rotation = 80)"
      ],
      "metadata": {
        "colab": {
          "base_uri": "https://localhost:8080/",
          "height": 839
        },
        "id": "3WiXCEJBczAU",
        "outputId": "d9e6b889-cf65-45d7-a275-adcd1351f638"
      },
      "execution_count": null,
      "outputs": [
        {
          "output_type": "execute_result",
          "data": {
            "text/plain": [
              "([0, 1, 2, 3, 4, 5, 6, 7, 8, 9, 10, 11],\n",
              " [Text(0, 0, 'BASKETBALL'),\n",
              "  Text(1, 0, 'FEAR OF GOD'),\n",
              "  Text(2, 0, 'FOOTBALL'),\n",
              "  Text(3, 0, 'ORIGINALS'),\n",
              "  Text(4, 0, 'OTHER SPECIALTY SPORTS'),\n",
              "  Text(5, 0, 'OUTDOOR'),\n",
              "  Text(6, 0, 'RUNNING'),\n",
              "  Text(7, 0, 'SKATEBOARDING'),\n",
              "  Text(8, 0, 'SPORTSWEAR'),\n",
              "  Text(9, 0, 'SWIM'),\n",
              "  Text(10, 0, 'TENNIS'),\n",
              "  Text(11, 0, 'TRAINING')])"
            ]
          },
          "metadata": {},
          "execution_count": 39
        },
        {
          "output_type": "display_data",
          "data": {
            "text/plain": [
              "<Figure size 640x480 with 1 Axes>"
            ],
            "image/png": "[encoded data removed]"
          },
          "metadata": {}
        }
      ]
    },
    {
      "cell_type": "code",
      "source": [
        "plt.xlabel(\"Categories\")\n",
        "plt.ylabel(\"Sum of Quantities\")\n",
        "plt.title(\"Sum of Quantities by Category (Division: Apparel, Gender: Man)\")"
      ],
      "metadata": {
        "colab": {
          "base_uri": "https://localhost:8080/",
          "height": 489
        },
        "id": "lYw-2Fiucywj",
        "outputId": "0f683eda-8f40-4c68-e4a1-67a5d2eb7c08"
      },
      "execution_count": null,
      "outputs": [
        {
          "output_type": "execute_result",
          "data": {
            "text/plain": [
              "Text(0.5, 1.0, 'Sum of Quantities by Category (Division: Apparel, Gender: Man)')"
            ]
          },
          "metadata": {},
          "execution_count": 35
        },
        {
          "output_type": "display_data",
          "data": {
            "text/plain": [
              "<Figure size 640x480 with 1 Axes>"
            ],
            "image/png": "[encoded data removed]"
          },
          "metadata": {}
        }
      ]
    },
    {
      "cell_type": "code",
      "source": [
        "#Histograma por categorias\n",
        "h = sns.histplot(data=df, x=\"categoria\", hue=\"genero\", multiple=\"stack\")\n",
        "\n",
        "plt.xticks(rotation = 45)"
      ],
      "metadata": {
        "id": "pRuXMPb4aMH0"
      },
      "execution_count": null,
      "outputs": []
    },
    {
      "cell_type": "markdown",
      "source": [
        "# Conclusiones"
      ],
      "metadata": {
        "id": "kk300MmS7Rsk"
      }
    },
    {
      "cell_type": "markdown",
      "source": [
        "#1 En base al historico de inventario, determinar las categorias de los articulos a invertir a futuro\n",
        "\n",
        "El porcentaje mayoritario corresponde a la categoria indumentaria\n",
        "\n",
        "#2 En base al historico de inventario, determinar el mix de compra para cada tipo de género\n",
        "\n",
        "El porcentaje mayoritario corresponde al género hombre\n",
        "\n",
        "#3 Que categoria para indumentaria de hombre es la mas vendida?\n",
        "\n",
        "La categoria de hombre mas vendida es \"Futbol\"\n"
      ],
      "metadata": {
        "id": "afnCD5Bf7ZiA"
      }
    },
    {
      "cell_type": "markdown",
      "source": [
        "LIMPIEZA DE DATOS"
      ],
      "metadata": {
        "id": "-fWvsRKRxTXM"
      }
    },
    {
      "cell_type": "code",
      "source": [
        "df.duplicated()"
      ],
      "metadata": {
        "colab": {
          "base_uri": "https://localhost:8080/"
        },
        "id": "H2LoMy7sxWyP",
        "outputId": "527fd592-7588-4990-c494-1d9be2c7c924"
      },
      "execution_count": null,
      "outputs": [
        {
          "output_type": "execute_result",
          "data": {
            "text/plain": [
              "0         False\n",
              "1         False\n",
              "2         False\n",
              "3         False\n",
              "4         False\n",
              "          ...  \n",
              "129721    False\n",
              "129722    False\n",
              "129723    False\n",
              "129724    False\n",
              "129725    False\n",
              "Length: 129726, dtype: bool"
            ]
          },
          "metadata": {},
          "execution_count": 29
        }
      ]
    },
    {
      "cell_type": "markdown",
      "source": [
        "no existen duplicados"
      ],
      "metadata": {
        "id": "If2fkeFhxqg5"
      }
    },
    {
      "cell_type": "code",
      "source": [
        "df[\"division\"].value_counts()"
      ],
      "metadata": {
        "colab": {
          "base_uri": "https://localhost:8080/"
        },
        "id": "EPN8tko6xtQ6",
        "outputId": "4412607e-d2e3-428a-8fa2-ac65da43782b"
      },
      "execution_count": null,
      "outputs": [
        {
          "output_type": "execute_result",
          "data": {
            "text/plain": [
              "Apparel     70812\n",
              "Footwear    50017\n",
              "Hardware     8897\n",
              "Name: division, dtype: int64"
            ]
          },
          "metadata": {},
          "execution_count": 30
        }
      ]
    },
    {
      "cell_type": "code",
      "source": [
        "df[\"genero\"].value_counts()"
      ],
      "metadata": {
        "colab": {
          "base_uri": "https://localhost:8080/"
        },
        "id": "XNJe2uvrzF78",
        "outputId": "56b226c1-8535-495b-9288-16aa89c3b519"
      },
      "execution_count": null,
      "outputs": [
        {
          "output_type": "execute_result",
          "data": {
            "text/plain": [
              "Man       64874\n",
              "Woman     37326\n",
              "Unisex    27526\n",
              "Name: genero, dtype: int64"
            ]
          },
          "metadata": {},
          "execution_count": 31
        }
      ]
    },
    {
      "cell_type": "code",
      "source": [
        "df[\"categoria\"].value_counts()"
      ],
      "metadata": {
        "colab": {
          "base_uri": "https://localhost:8080/"
        },
        "id": "1zu5h7w_zLTp",
        "outputId": "4e35c474-eae6-4ffc-a3ed-3c706f10da59"
      },
      "execution_count": null,
      "outputs": [
        {
          "output_type": "execute_result",
          "data": {
            "text/plain": [
              "FOOTBALL                  37636\n",
              "SPORTSWEAR                29240\n",
              "ORIGINALS                 22116\n",
              "RUNNING                   15900\n",
              "TRAINING                  13011\n",
              "OUTDOOR                    4798\n",
              "BASKETBALL                 3338\n",
              "TENNIS                     1313\n",
              "OTHER SPECIALTY SPORTS      752\n",
              "SWIM                        601\n",
              "SKATEBOARDING               552\n",
              "ENERGY & CONSORTIUM         306\n",
              "YEEZY                       121\n",
              "MUSIC PARTNERSHIPS           27\n",
              "STELLA MCCARTNEY             12\n",
              "FEAR OF GOD                   3\n",
              "Name: categoria, dtype: int64"
            ]
          },
          "metadata": {},
          "execution_count": 32
        }
      ]
    },
    {
      "cell_type": "code",
      "source": [
        "df[\"tipo_producto\"].value_counts()"
      ],
      "metadata": {
        "colab": {
          "base_uri": "https://localhost:8080/"
        },
        "id": "cBcMddKYzOww",
        "outputId": "29c61b4e-cc9a-44af-aca2-8a2d3983f74e"
      },
      "execution_count": null,
      "outputs": [
        {
          "output_type": "execute_result",
          "data": {
            "text/plain": [
              "SHOES                         46886\n",
              "T-SHIRTS                      14452\n",
              "JERSEYS                       11341\n",
              "SHORTS                         9389\n",
              "PANTS                          6833\n",
              "TRACK TOPS                     5679\n",
              "SWEATSHIRTS                    4682\n",
              "TIGHTS                         4160\n",
              "JACKETS                        3956\n",
              "SOCKS                          3608\n",
              "SUITS                          3097\n",
              "SANDALS/SLIPPERS               3085\n",
              "BAGS                           2240\n",
              "POLO SHIRTS                    1663\n",
              "BALLS                          1525\n",
              "BRA                            1518\n",
              "TOPS                           1478\n",
              "HEADWEAR                       1218\n",
              "OTHER SHIRTS                    786\n",
              "SWIMWEAR                        678\n",
              "OTHER APPAREL                   539\n",
              "SKIRTS / DRESSES                536\n",
              "PROTECTION GEAR                 224\n",
              "APPAREL ACCESSORIES              70\n",
              "POLARFLEECE APPAREL              51\n",
              "HARDWARE ACCESSORIES             13\n",
              "SHOES - LOW (NON FOOTBALL)        7\n",
              "0                                 5\n",
              "SWEATERS                          3\n",
              "JERSEY                            2\n",
              "T-SHIRT (SHORT SLEEVE)            1\n",
              "T-SHIRT (SLEEVELESS)              1\n",
              "Name: tipo_producto, dtype: int64"
            ]
          },
          "metadata": {},
          "execution_count": 11
        }
      ]
    },
    {
      "cell_type": "code",
      "source": [
        "df[\"temporada\"].value_counts()"
      ],
      "metadata": {
        "colab": {
          "base_uri": "https://localhost:8080/"
        },
        "id": "rUTk2GlXzXtc",
        "outputId": "264f8f46-dc62-4231-f1d5-b1615d254e4c"
      },
      "execution_count": null,
      "outputs": [
        {
          "output_type": "execute_result",
          "data": {
            "text/plain": [
              "22F    98912\n",
              "22S    22342\n",
              "21F     5832\n",
              "20S      958\n",
              "20F      851\n",
              "21S      810\n",
              "19F       13\n",
              "19S        3\n",
              "23S        3\n",
              "18F        2\n",
              "Name: temporada, dtype: int64"
            ]
          },
          "metadata": {},
          "execution_count": 12
        }
      ]
    },
    {
      "cell_type": "code",
      "source": [
        "print (data)"
      ],
      "metadata": {
        "colab": {
          "base_uri": "https://localhost:8080/"
        },
        "id": "ZD8JkeZn2Szp",
        "outputId": "1155b2c3-ab52-455c-8cf5-954da109a0fd"
      },
      "execution_count": null,
      "outputs": [
        {
          "output_type": "stream",
          "name": "stdout",
          "text": [
            "       id_articulo nombre_articulo temporada  division   edad  genero  \\\n",
            "0            15110    COPA MUNDIAL       22F  Footwear  Adult     Man   \n",
            "1            15110    COPA MUNDIAL       22F  Footwear  Adult     Man   \n",
            "2            19228    MUNDIAL TEAM       22F  Footwear  Adult     Man   \n",
            "3            19228    MUNDIAL TEAM       22F  Footwear  Adult     Man   \n",
            "4           280647        ADILETTE       22F  Footwear  Adult     Man   \n",
            "...            ...             ...       ...       ...    ...     ...   \n",
            "129721      S24035       TENSAUR K       22S  Footwear   Kids  Unisex   \n",
            "129722      S24035       TENSAUR K       22S  Footwear   Kids  Unisex   \n",
            "129723      S24035       TENSAUR K       22S  Footwear   Kids  Unisex   \n",
            "129724      S24035       TENSAUR K       22S  Footwear   Kids  Unisex   \n",
            "129725      S24035       TENSAUR K       22S  Footwear   Kids  Unisex   \n",
            "\n",
            "           tipo_producto   categoria   precio  qty_inventario  ...  \\\n",
            "0                  SHOES    FOOTBALL  43199.1               3  ...   \n",
            "1                  SHOES    FOOTBALL  43199.1              77  ...   \n",
            "2                  SHOES    FOOTBALL  31499.1               3  ...   \n",
            "3                  SHOES    FOOTBALL  31499.1              43  ...   \n",
            "4       SANDALS/SLIPPERS   ORIGINALS  10799.1             102  ...   \n",
            "...                  ...         ...      ...             ...  ...   \n",
            "129721             SHOES  SPORTSWEAR  12599.1              38  ...   \n",
            "129722             SHOES  SPORTSWEAR  12599.1              65  ...   \n",
            "129723             SHOES  SPORTSWEAR  12599.1              35  ...   \n",
            "129724             SHOES  SPORTSWEAR  12599.1               4  ...   \n",
            "129725             SHOES  SPORTSWEAR  12599.1             227  ...   \n",
            "\n",
            "       fecha_pedido   id_cliente           nombre_cliente  id_compra  \\\n",
            "0        00/00/0000                                   NaN  295767087   \n",
            "1        11/28/2023                                   NaN  295767087   \n",
            "2        00/00/0000                                   NaN  295767596   \n",
            "3        11/28/2023                                   NaN  295767596   \n",
            "4          5/9/2023       550095             BLOISE HNOS.  295310823   \n",
            "...             ...          ...                      ...        ...   \n",
            "129721    7/12/2023       550095             BLOISE HNOS.  293835529   \n",
            "129722    7/12/2023       551152         DABRA S A DEXTER  293835529   \n",
            "129723    7/12/2023       550071           ESSENTIAL S.A.  293835529   \n",
            "129724    5/26/2023       551196  ADOLFO ZAKIAN EXCLUSIVO  293835529   \n",
            "129725   00/00/0000                                   NaN  293835529   \n",
            "\n",
            "       id_fabrica                                     nombre_fabrica  \\\n",
            "0          2ID001                 GELAL CORAP SANAYI VE TICARET A.S.   \n",
            "1          2ID001                 GELAL CORAP SANAYI VE TICARET A.S.   \n",
            "2          2ID001                 GELAL CORAP SANAYI VE TICARET A.S.   \n",
            "3          2ID001                 GELAL CORAP SANAYI VE TICARET A.S.   \n",
            "4          2ID003  GELAL CORAP SANAYI VE TICARET ANONIM SIRKETI S...   \n",
            "...           ...                                                ...   \n",
            "129721     A6D501                      INDUSTRIAS MANUFACTURERAS MYR   \n",
            "129722     A6D501                      INDUSTRIAS MANUFACTURERAS MYR   \n",
            "129723     A6D501                      INDUSTRIAS MANUFACTURERAS MYR   \n",
            "129724     A6D501                      INDUSTRIAS MANUFACTURERAS MYR   \n",
            "129725     A6D501                      INDUSTRIAS MANUFACTURERAS MYR   \n",
            "\n",
            "       ciudad_fabrica pais_fabrica fecha_entrega is_outlier  \n",
            "0            ISTANBUL       TURKEY     6/28/2023      False  \n",
            "1            ISTANBUL       TURKEY     6/28/2023      False  \n",
            "2            ISTANBUL       TURKEY     6/28/2023      False  \n",
            "3            ISTANBUL       TURKEY     6/28/2023      False  \n",
            "4             CANKIRI       TURKEY     3/30/2023      False  \n",
            "...               ...          ...           ...        ...  \n",
            "129721       IRAPUATO       MEXICO     3/28/2023      False  \n",
            "129722       IRAPUATO       MEXICO     3/28/2023      False  \n",
            "129723       IRAPUATO       MEXICO     3/28/2023      False  \n",
            "129724       IRAPUATO       MEXICO     3/28/2023      False  \n",
            "129725       IRAPUATO       MEXICO     3/28/2023      False  \n",
            "\n",
            "[127797 rows x 22 columns]\n"
          ]
        }
      ]
    },
    {
      "cell_type": "code",
      "source": [
        "df.isnull()"
      ],
      "metadata": {
        "colab": {
          "base_uri": "https://localhost:8080/",
          "height": 488
        },
        "id": "LojnUbvbzsfp",
        "outputId": "e66654b5-8a89-4c8c-afd3-03fc6748b338"
      },
      "execution_count": null,
      "outputs": [
        {
          "output_type": "execute_result",
          "data": {
            "text/plain": [
              "        id_articulo  nombre_articulo  temporada  division   edad  genero  \\\n",
              "0             False            False      False     False  False   False   \n",
              "1             False            False      False     False  False   False   \n",
              "2             False            False      False     False  False   False   \n",
              "3             False            False      False     False  False   False   \n",
              "4             False            False      False     False  False   False   \n",
              "...             ...              ...        ...       ...    ...     ...   \n",
              "129721        False            False      False     False  False   False   \n",
              "129722        False            False      False     False  False   False   \n",
              "129723        False            False      False     False  False   False   \n",
              "129724        False            False      False     False  False   False   \n",
              "129725        False            False      False     False  False   False   \n",
              "\n",
              "        tipo_producto  categoria  precio  qty_inventario  ...  nombre_inv  \\\n",
              "0               False      False   False           False  ...       False   \n",
              "1               False      False   False           False  ...       False   \n",
              "2               False      False   False           False  ...       False   \n",
              "3               False      False   False           False  ...       False   \n",
              "4               False      False   False           False  ...       False   \n",
              "...               ...        ...     ...             ...  ...         ...   \n",
              "129721          False      False   False           False  ...       False   \n",
              "129722          False      False   False           False  ...       False   \n",
              "129723          False      False   False           False  ...       False   \n",
              "129724          False      False   False           False  ...       False   \n",
              "129725          False      False   False           False  ...       False   \n",
              "\n",
              "        fecha_pedido  id_cliente  nombre_cliente  id_compra  id_fabrica  \\\n",
              "0              False       False            True      False       False   \n",
              "1              False       False            True      False       False   \n",
              "2              False       False            True      False       False   \n",
              "3              False       False            True      False       False   \n",
              "4              False       False           False      False       False   \n",
              "...              ...         ...             ...        ...         ...   \n",
              "129721         False       False           False      False       False   \n",
              "129722         False       False           False      False       False   \n",
              "129723         False       False           False      False       False   \n",
              "129724         False       False           False      False       False   \n",
              "129725         False       False            True      False       False   \n",
              "\n",
              "        nombre_fabrica  ciudad_fabrica  pais_fabrica  fecha_entrega  \n",
              "0                False           False         False          False  \n",
              "1                False           False         False          False  \n",
              "2                False           False         False          False  \n",
              "3                False           False         False          False  \n",
              "4                False           False         False          False  \n",
              "...                ...             ...           ...            ...  \n",
              "129721           False           False         False          False  \n",
              "129722           False           False         False          False  \n",
              "129723           False           False         False          False  \n",
              "129724           False           False         False          False  \n",
              "129725           False           False         False          False  \n",
              "\n",
              "[129726 rows x 21 columns]"
            ],
            "text/html": [
              "\n",
              "  <div id=\"df-5686f416-e2b9-4007-a568-c43d50f98352\">\n",
              "    <div class=\"colab-df-container\">\n",
              "      <div>\n",
              "<style scoped>\n",
              "    .dataframe tbody tr th:only-of-type {\n",
              "        vertical-align: middle;\n",
              "    }\n",
              "\n",
              "    .dataframe tbody tr th {\n",
              "        vertical-align: top;\n",
              "    }\n",
              "\n",
              "    .dataframe thead th {\n",
              "        text-align: right;\n",
              "    }\n",
              "</style>\n",
              "<table border=\"1\" class=\"dataframe\">\n",
              "  <thead>\n",
              "    <tr style=\"text-align: right;\">\n",
              "      <th></th>\n",
              "      <th>id_articulo</th>\n",
              "      <th>nombre_articulo</th>\n",
              "      <th>temporada</th>\n",
              "      <th>division</th>\n",
              "      <th>edad</th>\n",
              "      <th>genero</th>\n",
              "      <th>tipo_producto</th>\n",
              "      <th>categoria</th>\n",
              "      <th>precio</th>\n",
              "      <th>qty_inventario</th>\n",
              "      <th>...</th>\n",
              "      <th>nombre_inv</th>\n",
              "      <th>fecha_pedido</th>\n",
              "      <th>id_cliente</th>\n",
              "      <th>nombre_cliente</th>\n",
              "      <th>id_compra</th>\n",
              "      <th>id_fabrica</th>\n",
              "      <th>nombre_fabrica</th>\n",
              "      <th>ciudad_fabrica</th>\n",
              "      <th>pais_fabrica</th>\n",
              "      <th>fecha_entrega</th>\n",
              "    </tr>\n",
              "  </thead>\n",
              "  <tbody>\n",
              "    <tr>\n",
              "      <th>0</th>\n",
              "      <td>False</td>\n",
              "      <td>False</td>\n",
              "      <td>False</td>\n",
              "      <td>False</td>\n",
              "      <td>False</td>\n",
              "      <td>False</td>\n",
              "      <td>False</td>\n",
              "      <td>False</td>\n",
              "      <td>False</td>\n",
              "      <td>False</td>\n",
              "      <td>...</td>\n",
              "      <td>False</td>\n",
              "      <td>False</td>\n",
              "      <td>False</td>\n",
              "      <td>True</td>\n",
              "      <td>False</td>\n",
              "      <td>False</td>\n",
              "      <td>False</td>\n",
              "      <td>False</td>\n",
              "      <td>False</td>\n",
              "      <td>False</td>\n",
              "    </tr>\n",
              "    <tr>\n",
              "      <th>1</th>\n",
              "      <td>False</td>\n",
              "      <td>False</td>\n",
              "      <td>False</td>\n",
              "      <td>False</td>\n",
              "      <td>False</td>\n",
              "      <td>False</td>\n",
              "      <td>False</td>\n",
              "      <td>False</td>\n",
              "      <td>False</td>\n",
              "      <td>False</td>\n",
              "      <td>...</td>\n",
              "      <td>False</td>\n",
              "      <td>False</td>\n",
              "      <td>False</td>\n",
              "      <td>True</td>\n",
              "      <td>False</td>\n",
              "      <td>False</td>\n",
              "      <td>False</td>\n",
              "      <td>False</td>\n",
              "      <td>False</td>\n",
              "      <td>False</td>\n",
              "    </tr>\n",
              "    <tr>\n",
              "      <th>2</th>\n",
              "      <td>False</td>\n",
              "      <td>False</td>\n",
              "      <td>False</td>\n",
              "      <td>False</td>\n",
              "      <td>False</td>\n",
              "      <td>False</td>\n",
              "      <td>False</td>\n",
              "      <td>False</td>\n",
              "      <td>False</td>\n",
              "      <td>False</td>\n",
              "      <td>...</td>\n",
              "      <td>False</td>\n",
              "      <td>False</td>\n",
              "      <td>False</td>\n",
              "      <td>True</td>\n",
              "      <td>False</td>\n",
              "      <td>False</td>\n",
              "      <td>False</td>\n",
              "      <td>False</td>\n",
              "      <td>False</td>\n",
              "      <td>False</td>\n",
              "    </tr>\n",
              "    <tr>\n",
              "      <th>3</th>\n",
              "      <td>False</td>\n",
              "      <td>False</td>\n",
              "      <td>False</td>\n",
              "      <td>False</td>\n",
              "      <td>False</td>\n",
              "      <td>False</td>\n",
              "      <td>False</td>\n",
              "      <td>False</td>\n",
              "      <td>False</td>\n",
              "      <td>False</td>\n",
              "      <td>...</td>\n",
              "      <td>False</td>\n",
              "      <td>False</td>\n",
              "      <td>False</td>\n",
              "      <td>True</td>\n",
              "      <td>False</td>\n",
              "      <td>False</td>\n",
              "      <td>False</td>\n",
              "      <td>False</td>\n",
              "      <td>False</td>\n",
              "      <td>False</td>\n",
              "    </tr>\n",
              "    <tr>\n",
              "      <th>4</th>\n",
              "      <td>False</td>\n",
              "      <td>False</td>\n",
              "      <td>False</td>\n",
              "      <td>False</td>\n",
              "      <td>False</td>\n",
              "      <td>False</td>\n",
              "      <td>False</td>\n",
              "      <td>False</td>\n",
              "      <td>False</td>\n",
              "      <td>False</td>\n",
              "      <td>...</td>\n",
              "      <td>False</td>\n",
              "      <td>False</td>\n",
              "      <td>False</td>\n",
              "      <td>False</td>\n",
              "      <td>False</td>\n",
              "      <td>False</td>\n",
              "      <td>False</td>\n",
              "      <td>False</td>\n",
              "      <td>False</td>\n",
              "      <td>False</td>\n",
              "    </tr>\n",
              "    <tr>\n",
              "      <th>...</th>\n",
              "      <td>...</td>\n",
              "      <td>...</td>\n",
              "      <td>...</td>\n",
              "      <td>...</td>\n",
              "      <td>...</td>\n",
              "      <td>...</td>\n",
              "      <td>...</td>\n",
              "      <td>...</td>\n",
              "      <td>...</td>\n",
              "      <td>...</td>\n",
              "      <td>...</td>\n",
              "      <td>...</td>\n",
              "      <td>...</td>\n",
              "      <td>...</td>\n",
              "      <td>...</td>\n",
              "      <td>...</td>\n",
              "      <td>...</td>\n",
              "      <td>...</td>\n",
              "      <td>...</td>\n",
              "      <td>...</td>\n",
              "      <td>...</td>\n",
              "    </tr>\n",
              "    <tr>\n",
              "      <th>129721</th>\n",
              "      <td>False</td>\n",
              "      <td>False</td>\n",
              "      <td>False</td>\n",
              "      <td>False</td>\n",
              "      <td>False</td>\n",
              "      <td>False</td>\n",
              "      <td>False</td>\n",
              "      <td>False</td>\n",
              "      <td>False</td>\n",
              "      <td>False</td>\n",
              "      <td>...</td>\n",
              "      <td>False</td>\n",
              "      <td>False</td>\n",
              "      <td>False</td>\n",
              "      <td>False</td>\n",
              "      <td>False</td>\n",
              "      <td>False</td>\n",
              "      <td>False</td>\n",
              "      <td>False</td>\n",
              "      <td>False</td>\n",
              "      <td>False</td>\n",
              "    </tr>\n",
              "    <tr>\n",
              "      <th>129722</th>\n",
              "      <td>False</td>\n",
              "      <td>False</td>\n",
              "      <td>False</td>\n",
              "      <td>False</td>\n",
              "      <td>False</td>\n",
              "      <td>False</td>\n",
              "      <td>False</td>\n",
              "      <td>False</td>\n",
              "      <td>False</td>\n",
              "      <td>False</td>\n",
              "      <td>...</td>\n",
              "      <td>False</td>\n",
              "      <td>False</td>\n",
              "      <td>False</td>\n",
              "      <td>False</td>\n",
              "      <td>False</td>\n",
              "      <td>False</td>\n",
              "      <td>False</td>\n",
              "      <td>False</td>\n",
              "      <td>False</td>\n",
              "      <td>False</td>\n",
              "    </tr>\n",
              "    <tr>\n",
              "      <th>129723</th>\n",
              "      <td>False</td>\n",
              "      <td>False</td>\n",
              "      <td>False</td>\n",
              "      <td>False</td>\n",
              "      <td>False</td>\n",
              "      <td>False</td>\n",
              "      <td>False</td>\n",
              "      <td>False</td>\n",
              "      <td>False</td>\n",
              "      <td>False</td>\n",
              "      <td>...</td>\n",
              "      <td>False</td>\n",
              "      <td>False</td>\n",
              "      <td>False</td>\n",
              "      <td>False</td>\n",
              "      <td>False</td>\n",
              "      <td>False</td>\n",
              "      <td>False</td>\n",
              "      <td>False</td>\n",
              "      <td>False</td>\n",
              "      <td>False</td>\n",
              "    </tr>\n",
              "    <tr>\n",
              "      <th>129724</th>\n",
              "      <td>False</td>\n",
              "      <td>False</td>\n",
              "      <td>False</td>\n",
              "      <td>False</td>\n",
              "      <td>False</td>\n",
              "      <td>False</td>\n",
              "      <td>False</td>\n",
              "      <td>False</td>\n",
              "      <td>False</td>\n",
              "      <td>False</td>\n",
              "      <td>...</td>\n",
              "      <td>False</td>\n",
              "      <td>False</td>\n",
              "      <td>False</td>\n",
              "      <td>False</td>\n",
              "      <td>False</td>\n",
              "      <td>False</td>\n",
              "      <td>False</td>\n",
              "      <td>False</td>\n",
              "      <td>False</td>\n",
              "      <td>False</td>\n",
              "    </tr>\n",
              "    <tr>\n",
              "      <th>129725</th>\n",
              "      <td>False</td>\n",
              "      <td>False</td>\n",
              "      <td>False</td>\n",
              "      <td>False</td>\n",
              "      <td>False</td>\n",
              "      <td>False</td>\n",
              "      <td>False</td>\n",
              "      <td>False</td>\n",
              "      <td>False</td>\n",
              "      <td>False</td>\n",
              "      <td>...</td>\n",
              "      <td>False</td>\n",
              "      <td>False</td>\n",
              "      <td>False</td>\n",
              "      <td>True</td>\n",
              "      <td>False</td>\n",
              "      <td>False</td>\n",
              "      <td>False</td>\n",
              "      <td>False</td>\n",
              "      <td>False</td>\n",
              "      <td>False</td>\n",
              "    </tr>\n",
              "  </tbody>\n",
              "</table>\n",
              "<p>129726 rows × 21 columns</p>\n",
              "</div>\n",
              "      <button class=\"colab-df-convert\" onclick=\"convertToInteractive('df-5686f416-e2b9-4007-a568-c43d50f98352')\"\n",
              "              title=\"Convert this dataframe to an interactive table.\"\n",
              "              style=\"display:none;\">\n",
              "        \n",
              "  <svg xmlns=\"http://www.w3.org/2000/svg\" height=\"24px\"viewBox=\"0 0 24 24\"\n",
              "       width=\"24px\">\n",
              "    <path d=\"M0 0h24v24H0V0z\" fill=\"none\"/>\n",
              "    <path d=\"M18.56 5.44l.94 2.06.94-2.06 2.06-.94-2.06-.94-.94-2.06-.94 2.06-2.06.94zm-11 1L8.5 8.5l.94-2.06 2.06-.94-2.06-.94L8.5 2.5l-.94 2.06-2.06.94zm10 10l.94 2.06.94-2.06 2.06-.94-2.06-.94-.94-2.06-.94 2.06-2.06.94z\"/><path d=\"M17.41 7.96l-1.37-1.37c-.4-.4-.92-.59-1.43-.59-.52 0-1.04.2-1.43.59L10.3 9.45l-7.72 7.72c-.78.78-.78 2.05 0 2.83L4 21.41c.39.39.9.59 1.41.59.51 0 1.02-.2 1.41-.59l7.78-7.78 2.81-2.81c.8-.78.8-2.07 0-2.86zM5.41 20L4 18.59l7.72-7.72 1.47 1.35L5.41 20z\"/>\n",
              "  </svg>\n",
              "      </button>\n",
              "      \n",
              "  <style>\n",
              "    .colab-df-container {\n",
              "      display:flex;\n",
              "      flex-wrap:wrap;\n",
              "      gap: 12px;\n",
              "    }\n",
              "\n",
              "    .colab-df-convert {\n",
              "      background-color: #E8F0FE;\n",
              "      border: none;\n",
              "      border-radius: 50%;\n",
              "      cursor: pointer;\n",
              "      display: none;\n",
              "      fill: #1967D2;\n",
              "      height: 32px;\n",
              "      padding: 0 0 0 0;\n",
              "      width: 32px;\n",
              "    }\n",
              "\n",
              "    .colab-df-convert:hover {\n",
              "      background-color: #E2EBFA;\n",
              "      box-shadow: 0px 1px 2px rgba(60, 64, 67, 0.3), 0px 1px 3px 1px rgba(60, 64, 67, 0.15);\n",
              "      fill: #174EA6;\n",
              "    }\n",
              "\n",
              "    [theme=dark] .colab-df-convert {\n",
              "      background-color: #3B4455;\n",
              "      fill: #D2E3FC;\n",
              "    }\n",
              "\n",
              "    [theme=dark] .colab-df-convert:hover {\n",
              "      background-color: #434B5C;\n",
              "      box-shadow: 0px 1px 3px 1px rgba(0, 0, 0, 0.15);\n",
              "      filter: drop-shadow(0px 1px 2px rgba(0, 0, 0, 0.3));\n",
              "      fill: #FFFFFF;\n",
              "    }\n",
              "  </style>\n",
              "\n",
              "      <script>\n",
              "        const buttonEl =\n",
              "          document.querySelector('#df-5686f416-e2b9-4007-a568-c43d50f98352 button.colab-df-convert');\n",
              "        buttonEl.style.display =\n",
              "          google.colab.kernel.accessAllowed ? 'block' : 'none';\n",
              "\n",
              "        async function convertToInteractive(key) {\n",
              "          const element = document.querySelector('#df-5686f416-e2b9-4007-a568-c43d50f98352');\n",
              "          const dataTable =\n",
              "            await google.colab.kernel.invokeFunction('convertToInteractive',\n",
              "                                                     [key], {});\n",
              "          if (!dataTable) return;\n",
              "\n",
              "          const docLinkHtml = 'Like what you see? Visit the ' +\n",
              "            '<a target=\"_blank\" href=https://colab.research.google.com/notebooks/data_table.ipynb>data table notebook</a>'\n",
              "            + ' to learn more about interactive tables.';\n",
              "          element.innerHTML = '';\n",
              "          dataTable['output_type'] = 'display_data';\n",
              "          await google.colab.output.renderOutput(dataTable, element);\n",
              "          const docLink = document.createElement('div');\n",
              "          docLink.innerHTML = docLinkHtml;\n",
              "          element.appendChild(docLink);\n",
              "        }\n",
              "      </script>\n",
              "    </div>\n",
              "  </div>\n",
              "  "
            ]
          },
          "metadata": {},
          "execution_count": 34
        }
      ]
    },
    {
      "cell_type": "code",
      "source": [
        "mean = df['precio'].mean()\n",
        "std = df['precio'].std()\n",
        "print (mean)\n",
        "print (std)\n"
      ],
      "metadata": {
        "colab": {
          "base_uri": "https://localhost:8080/"
        },
        "id": "OzPnuoSa06m1",
        "outputId": "7f7bc2a3-f979-461f-8e16-d907ea40ef81"
      },
      "execution_count": null,
      "outputs": [
        {
          "output_type": "stream",
          "name": "stdout",
          "text": [
            "17697.980255307342\n",
            "9603.887271827698\n"
          ]
        }
      ]
    },
    {
      "cell_type": "code",
      "source": [
        "upper_limit = mean + 3 * std\n",
        "lower_limit = mean - 3 * std\n",
        "print (upper_limit)\n",
        "print (lower_limit)"
      ],
      "metadata": {
        "colab": {
          "base_uri": "https://localhost:8080/"
        },
        "id": "oV4YbFm-1EQ_",
        "outputId": "99b45e6f-bcd7-42a6-b05c-1523345c7d2c"
      },
      "execution_count": null,
      "outputs": [
        {
          "output_type": "stream",
          "name": "stdout",
          "text": [
            "46509.64207079043\n",
            "-11113.681560175752\n"
          ]
        }
      ]
    },
    {
      "cell_type": "code",
      "source": [
        "df['is_outlier'] = np.where((df['precio'] > upper_limit) | (df['precio'] < lower_limit), True, False)\n"
      ],
      "metadata": {
        "id": "HxrAlLiE1Ygk"
      },
      "execution_count": null,
      "outputs": []
    },
    {
      "cell_type": "code",
      "source": [
        "df.info()"
      ],
      "metadata": {
        "colab": {
          "base_uri": "https://localhost:8080/"
        },
        "id": "eYRnN9bh1tGf",
        "outputId": "0059dc52-cde7-4840-c7bc-bf760cec4d5a"
      },
      "execution_count": null,
      "outputs": [
        {
          "output_type": "stream",
          "name": "stdout",
          "text": [
            "<class 'pandas.core.frame.DataFrame'>\n",
            "RangeIndex: 129726 entries, 0 to 129725\n",
            "Data columns (total 22 columns):\n",
            " #   Column           Non-Null Count   Dtype  \n",
            "---  ------           --------------   -----  \n",
            " 0   id_articulo      129726 non-null  object \n",
            " 1   nombre_articulo  129726 non-null  object \n",
            " 2   temporada        129726 non-null  object \n",
            " 3   division         129726 non-null  object \n",
            " 4   edad             129726 non-null  object \n",
            " 5   genero           129726 non-null  object \n",
            " 6   tipo_producto    129726 non-null  object \n",
            " 7   categoria        129726 non-null  object \n",
            " 8   precio           129726 non-null  float64\n",
            " 9   qty_inventario   129726 non-null  int64  \n",
            " 10  nombre_canal     129726 non-null  object \n",
            " 11  nombre_inv       129726 non-null  object \n",
            " 12  fecha_pedido     129726 non-null  object \n",
            " 13  id_cliente       129726 non-null  object \n",
            " 14  nombre_cliente   99016 non-null   object \n",
            " 15  id_compra        129726 non-null  int64  \n",
            " 16  id_fabrica       102743 non-null  object \n",
            " 17  nombre_fabrica   102743 non-null  object \n",
            " 18  ciudad_fabrica   102743 non-null  object \n",
            " 19  pais_fabrica     102743 non-null  object \n",
            " 20  fecha_entrega    102743 non-null  object \n",
            " 21  is_outlier       129726 non-null  bool   \n",
            "dtypes: bool(1), float64(1), int64(2), object(18)\n",
            "memory usage: 20.9+ MB\n"
          ]
        }
      ]
    },
    {
      "cell_type": "code",
      "source": [
        "data = df[df['is_outlier'] == False]\n",
        "print (data)"
      ],
      "metadata": {
        "colab": {
          "base_uri": "https://localhost:8080/"
        },
        "id": "nSXVAixn15-w",
        "outputId": "a2333075-a1f9-4920-a8dd-f77dc2bd4f84"
      },
      "execution_count": null,
      "outputs": [
        {
          "output_type": "stream",
          "name": "stdout",
          "text": [
            "       id_articulo nombre_articulo temporada  division   edad  genero  \\\n",
            "0            15110    COPA MUNDIAL       22F  Footwear  Adult     Man   \n",
            "1            15110    COPA MUNDIAL       22F  Footwear  Adult     Man   \n",
            "2            19228    MUNDIAL TEAM       22F  Footwear  Adult     Man   \n",
            "3            19228    MUNDIAL TEAM       22F  Footwear  Adult     Man   \n",
            "4           280647        ADILETTE       22F  Footwear  Adult     Man   \n",
            "...            ...             ...       ...       ...    ...     ...   \n",
            "129721      S24035       TENSAUR K       22S  Footwear   Kids  Unisex   \n",
            "129722      S24035       TENSAUR K       22S  Footwear   Kids  Unisex   \n",
            "129723      S24035       TENSAUR K       22S  Footwear   Kids  Unisex   \n",
            "129724      S24035       TENSAUR K       22S  Footwear   Kids  Unisex   \n",
            "129725      S24035       TENSAUR K       22S  Footwear   Kids  Unisex   \n",
            "\n",
            "           tipo_producto   categoria   precio  qty_inventario  ...  \\\n",
            "0                  SHOES    FOOTBALL  43199.1               3  ...   \n",
            "1                  SHOES    FOOTBALL  43199.1              77  ...   \n",
            "2                  SHOES    FOOTBALL  31499.1               3  ...   \n",
            "3                  SHOES    FOOTBALL  31499.1              43  ...   \n",
            "4       SANDALS/SLIPPERS   ORIGINALS  10799.1             102  ...   \n",
            "...                  ...         ...      ...             ...  ...   \n",
            "129721             SHOES  SPORTSWEAR  12599.1              38  ...   \n",
            "129722             SHOES  SPORTSWEAR  12599.1              65  ...   \n",
            "129723             SHOES  SPORTSWEAR  12599.1              35  ...   \n",
            "129724             SHOES  SPORTSWEAR  12599.1               4  ...   \n",
            "129725             SHOES  SPORTSWEAR  12599.1             227  ...   \n",
            "\n",
            "       fecha_pedido   id_cliente           nombre_cliente  id_compra  \\\n",
            "0        00/00/0000                                   NaN  295767087   \n",
            "1        11/28/2023                                   NaN  295767087   \n",
            "2        00/00/0000                                   NaN  295767596   \n",
            "3        11/28/2023                                   NaN  295767596   \n",
            "4          5/9/2023       550095             BLOISE HNOS.  295310823   \n",
            "...             ...          ...                      ...        ...   \n",
            "129721    7/12/2023       550095             BLOISE HNOS.  293835529   \n",
            "129722    7/12/2023       551152         DABRA S A DEXTER  293835529   \n",
            "129723    7/12/2023       550071           ESSENTIAL S.A.  293835529   \n",
            "129724    5/26/2023       551196  ADOLFO ZAKIAN EXCLUSIVO  293835529   \n",
            "129725   00/00/0000                                   NaN  293835529   \n",
            "\n",
            "       id_fabrica                                     nombre_fabrica  \\\n",
            "0          2ID001                 GELAL CORAP SANAYI VE TICARET A.S.   \n",
            "1          2ID001                 GELAL CORAP SANAYI VE TICARET A.S.   \n",
            "2          2ID001                 GELAL CORAP SANAYI VE TICARET A.S.   \n",
            "3          2ID001                 GELAL CORAP SANAYI VE TICARET A.S.   \n",
            "4          2ID003  GELAL CORAP SANAYI VE TICARET ANONIM SIRKETI S...   \n",
            "...           ...                                                ...   \n",
            "129721     A6D501                      INDUSTRIAS MANUFACTURERAS MYR   \n",
            "129722     A6D501                      INDUSTRIAS MANUFACTURERAS MYR   \n",
            "129723     A6D501                      INDUSTRIAS MANUFACTURERAS MYR   \n",
            "129724     A6D501                      INDUSTRIAS MANUFACTURERAS MYR   \n",
            "129725     A6D501                      INDUSTRIAS MANUFACTURERAS MYR   \n",
            "\n",
            "       ciudad_fabrica pais_fabrica fecha_entrega is_outlier  \n",
            "0            ISTANBUL       TURKEY     6/28/2023      False  \n",
            "1            ISTANBUL       TURKEY     6/28/2023      False  \n",
            "2            ISTANBUL       TURKEY     6/28/2023      False  \n",
            "3            ISTANBUL       TURKEY     6/28/2023      False  \n",
            "4             CANKIRI       TURKEY     3/30/2023      False  \n",
            "...               ...          ...           ...        ...  \n",
            "129721       IRAPUATO       MEXICO     3/28/2023      False  \n",
            "129722       IRAPUATO       MEXICO     3/28/2023      False  \n",
            "129723       IRAPUATO       MEXICO     3/28/2023      False  \n",
            "129724       IRAPUATO       MEXICO     3/28/2023      False  \n",
            "129725       IRAPUATO       MEXICO     3/28/2023      False  \n",
            "\n",
            "[127797 rows x 22 columns]\n"
          ]
        }
      ]
    },
    {
      "cell_type": "markdown",
      "source": [
        "Se eliminaron outliers filas originales 129726 vs 127797"
      ],
      "metadata": {
        "id": "tSS0hVsa3Oc7"
      }
    }
  ]
}